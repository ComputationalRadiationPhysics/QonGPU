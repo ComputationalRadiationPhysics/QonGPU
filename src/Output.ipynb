{
 "cells": [
  {
   "cell_type": "code",
   "execution_count": 2,
   "metadata": {
    "collapsed": false
   },
   "outputs": [],
   "source": []
  },
  {
   "cell_type": "code",
   "execution_count": 4,
   "metadata": {
    "collapsed": false
   },
   "outputs": [
    {
     "name": "stdout",
     "output_type": "stream",
     "text": [
      "100000\n",
      "100000000\n",
      "[  1.00000000e+01   0.00000000e+00   5.00000000e+00   0.00000000e+00\n",
      "   1.00000000e+05   2.00000000e+00   1.00000000e+03]\n"
     ]
    }
   ],
   "source": [
    "\n",
    "#/usr/bin/python\n",
    "# -*- coding: utf-8 -*-\n",
    "import sys\n",
    "import h5py\n",
    "import numpy as np\n",
    "from mpl_toolkits.mplot3d import Axes3D\n",
    "from matplotlib import pyplot as plt\n",
    "f = h5py.File(\"static_results.h5\",'r')\n",
    "dset = f.get(\"/numres\")\n",
    "dset2 = f.get(\"/params1d\")\n",
    "p = np.array(dset2)\n",
    "a = np.array(dset)\n",
    "f.close()\n",
    "dset=0;\n",
    "dset2=0;\n",
    "nx=int(p[4])\n",
    "ne = int(p[6])\n",
    "x=np.linspace(0,p[0],num=int(p[4]))\n",
    "fig=plt.figure()\n",
    "ax=fig.add_subplot(111)\n",
    "print(len(x))\n",
    "print(len(a))\n",
    "print(p)\n",
    "fig = plt.figure()\n",
    "#ax1 = fig.add_subplot(221)\n",
    "ax2 = fig.add_subplot(111)\n",
    "#ax3 = fig.add_subplot(223)\n",
    "#ax4 = fig.add_subplot(224)\n",
    "\n",
    "#for i in range(0,len(a)):\n",
    "#    ax.plot(x,a[i*nx:(i+1)*nx])\n",
    "for i in range(0,int(p[6]),10):\n",
    "    ax2.plot(x,a[i*nx:(i+1)*nx])   \n",
    "#for i in range(21,30):\n",
    "#    ax3.plot(x[0:nx],a[i*nx:(i+1)*nx])\n",
    "#for i in range(31,40):\n",
    "#    ax4.plot(x[0:nx],a[i*nx:(i+1)*nx])\n",
    "#ax1.set_title(\"$\\psi_n(x)$ for $E_0$-$E_9$\")\n",
    "#ax1.set_xlabel(\"$x(a.u.)$\")\n",
    "#ax1.set_ylabel(\"$\\psi_n(x)$\")       \n",
    "#ax2.set_title(\"$\\psi_n(x)$ for $E_{10}$-$E_{19}$\")\n",
    "#ax2.set_xlabel(\"$x(a.u.)$\")\n",
    "#ax2.set_ylabel(\"$\\psi_n(x)$\")    \n",
    "#ax3.set_title(\"$\\psi_n(x)$ for $E_{20}$-$E_{29}$\")\n",
    "#ax3.set_xlabel(\"$x(a.u.)$\")\n",
    "#ax3.set_ylabel(\"$\\psi_n(x)$\")\n",
    "#ax4.set_title(\"$\\psi_n(x)$ for $E_{30}$-$E_{39}$\")\n",
    "#ax4.set_xlabel(\"$x(a.u.)$\")\n",
    "#ax4.set_ylabel(\"$\\psi_n(x)$\")\n",
    "   \n",
    "a=0\n",
    "x=0   \n",
    "plt.show()\n"
   ]
  },
  {
   "cell_type": "code",
   "execution_count": null,
   "metadata": {
    "collapsed": false
   },
   "outputs": [],
   "source": []
  },
  {
   "cell_type": "code",
   "execution_count": 6,
   "metadata": {
    "collapsed": false
   },
   "outputs": [
    {
     "name": "stdout",
     "output_type": "stream",
     "text": [
      "-0.0\n",
      "-0.2\n",
      "-0.4\n",
      "-0.6000000000000001\n",
      "-0.8\n"
     ]
    },
    {
     "name": "stderr",
     "output_type": "stream",
     "text": [
      "/usr/lib/python3.5/site-packages/matplotlib/axes/_axes.py:519: UserWarning: No labelled objects found. Use label='...' kwarg on individual plots.\n",
      "  warnings.warn(\"No labelled objects found. \"\n"
     ]
    }
   ],
   "source": [
    "E=-1.0\n",
    "nx=1e5\n",
    "ne=5\n",
    "dE=E/ne\n",
    "x=500.0\n",
    "xmin=-10.0\n",
    "psi=np.zeros(int(nx))\n",
    "def V(x,t):\n",
    "    return 1/np.sqrt(x**2)\n",
    "psi[1]=-1e-5\n",
    "t=0\n",
    "a=np.linspace(0,x,int(nx))\n",
    "while(t<ne):\n",
    "    E=t*dE\n",
    "    print(E)\n",
    "    for i in range(2,int(nx)):\n",
    "        dx=(x-xmin)/nx;\n",
    "        f1=(1+(dx**2)/6*((-E+V(xmin+dx*(i+1.),0.))*2))**(-1.)\n",
    "        f2=(1-5/6*dx**2*((-E+V(i*dx+xmin,0))*2))\n",
    "        f3=(1+dx**2/6*(2*(-E+V((i-1)*dx+xmin,0))))\n",
    "        psi[i] = f1*(2*psi[i-1]*f2-psi[i-2]*f3)   \n",
    "    plt.plot(a,psi)    \n",
    "    t+=1\n",
    "plt.xlabel(\"x $(a_0)$\",size=\"20\")\n",
    "plt.ylabel(\"$\\Psi(x)$\",size=\"20\")\n",
    "plt.legend()\n",
    "plt.show()\n",
    "psi=0"
   ]
  },
  {
   "cell_type": "code",
   "execution_count": null,
   "metadata": {
    "collapsed": true
   },
   "outputs": [],
   "source": []
  }
 ],
 "metadata": {
  "kernelspec": {
   "display_name": "Python 3",
   "language": "python",
   "name": "python3"
  },
  "language_info": {
   "codemirror_mode": {
    "name": "ipython",
    "version": 3
   },
   "file_extension": ".py",
   "mimetype": "text/x-python",
   "name": "python",
   "nbconvert_exporter": "python",
   "pygments_lexer": "ipython3",
   "version": "3.5.1"
  }
 },
 "nbformat": 4,
 "nbformat_minor": 0
}
