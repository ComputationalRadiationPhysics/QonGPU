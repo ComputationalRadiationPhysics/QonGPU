{
 "cells": [
  {
   "cell_type": "code",
   "execution_count": 14,
   "metadata": {
    "collapsed": false
   },
   "outputs": [
    {
     "name": "stdout",
     "output_type": "stream",
     "text": [
      "(-3-3j)\n",
      "(4+4j)\n",
      "(1+1j)\n",
      "(-1+1j)\n",
      "(3+5j)\n"
     ]
    }
   ],
   "source": [
    "import numpy as np \n",
    "# This test delivers the results for the complex device \n",
    "# multiplication \n",
    "c0 = 2.0 \n",
    "inc = 1\n",
    "z1 = c0 + 1j * c0\n",
    "c0 += 1.0\n",
    "z2 = c0 + 1j * c0 \n",
    "c0 += 1.0 \n",
    "z3 = c0 + 1j * c0\n",
    "c0 += 1.0 \n",
    "z4 = c0 + 1j * c0 \n",
    "c0 += 1.0 \n",
    "z5 = c0 + 1j * c0 \n",
    "c0 += 1.0 \n",
    "z6 = c0 + 1j * c0 \n",
    "c0 += 1.0\n",
    "\n",
    "h1 = 1.0 + 1j * 0\n",
    "h2 = 1.0 + 1j * 0\n",
    "pot = 1.0 \n",
    "z1 = 2.0 + 1j * 2.0\n",
    "z2  = z1 + 1.0 + 1j * 1.0 \n",
    "z3 = 4.0 + 1j * 4.0\n",
    "\n",
    "z5 = h1 * ( z1 + z2 - 2  * z3)\n",
    "print(z5)\n",
    "z6 = pot * z3 \n",
    "print(z6)\n",
    "z5 = z5 + z6\n",
    "print(z5)\n",
    "z5 *= 1j\n",
    "print(z5)\n",
    "z5 += z3 \n",
    "print(z5)"
   ]
  },
  {
   "cell_type": "code",
   "execution_count": 17,
   "metadata": {
    "collapsed": false
   },
   "outputs": [
    {
     "name": "stdout",
     "output_type": "stream",
     "text": [
      "(19-9j)\n"
     ]
    }
   ],
   "source": [
    "# Test for the transform diag function\n",
    "z1  = 1.0 + 1j * 2.0 \n",
    "z2  = 2.0 + 1J * 3.0 \n",
    "z3  = 7.0 + 1J * 8.0\n",
    "\n",
    "c = 3.0\n",
    "x = 0 \n",
    "\n",
    "s1 = 1.0 \n",
    "s2 = 3.0\n",
    "c = 5.0 \n",
    "t1 = 1.0 + 1j * 2.0\n",
    "s2 = -2.0 * c + 1.0 \n",
    "s2 = t1 * s2\n",
    "s2 = s2*1j\n",
    "d = s1 + s2\n",
    "print(d)\n"
   ]
  },
  {
   "cell_type": "code",
   "execution_count": null,
   "metadata": {
    "collapsed": true
   },
   "outputs": [],
   "source": []
  }
 ],
 "metadata": {
  "kernelspec": {
   "display_name": "Python 3",
   "language": "python",
   "name": "python3"
  },
  "language_info": {
   "codemirror_mode": {
    "name": "ipython",
    "version": 3
   },
   "file_extension": ".py",
   "mimetype": "text/x-python",
   "name": "python",
   "nbconvert_exporter": "python",
   "pygments_lexer": "ipython3",
   "version": "3.5.1"
  }
 },
 "nbformat": 4,
 "nbformat_minor": 0
}
