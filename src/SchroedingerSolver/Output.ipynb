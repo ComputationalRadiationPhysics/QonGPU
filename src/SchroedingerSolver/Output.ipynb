{
 "cells": [
  {
   "cell_type": "code",
   "execution_count": 2,
   "metadata": {
    "collapsed": false
   },
   "outputs": [],
   "source": []
  },
  {
   "cell_type": "code",
   "execution_count": 20,
   "metadata": {
    "collapsed": false
   },
   "outputs": [
    {
     "name": "stderr",
     "output_type": "stream",
     "text": [
      "/usr/lib/python3.5/site-packages/ipykernel/__main__.py:25: DeprecationWarning: using a non-integer number instead of an integer will result in an error in the future\n"
     ]
    }
   ],
   "source": [
    "#/usr/bin/python\n",
    "# -*- coding: utf-8 -*-\n",
    "\n",
    "\n",
    "import sys\n",
    "import h5py\n",
    "import numpy as np\n",
    "from mpl_toolkits.mplot3d import Axes3D\n",
    "from matplotlib import pyplot as pp\n",
    "\n",
    "\n",
    "if len(sys.argv) < 2:\n",
    "\tprint(\"You forgot the file!\")\n",
    "\tsys.exit(1)\n",
    "\n",
    "f = h5py.File(\"static_results.h5\",'r')\n",
    "dset = f.get(\"/numres\")\n",
    "dset2 = f.get(\"/params1d\")\n",
    "p = np.array(dset2)\n",
    "a = np.array(dset)\n",
    "nx = p[4]\n",
    "\n",
    "fig = pp.figure()\n",
    "ax = fig.add_subplot(111)\n",
    "ax.plot(a[0:nx])\n",
    "pp.show()\n",
    "\n"
   ]
  },
  {
   "cell_type": "code",
   "execution_count": null,
   "metadata": {
    "collapsed": true
   },
   "outputs": [],
   "source": []
  },
  {
   "cell_type": "code",
   "execution_count": null,
   "metadata": {
    "collapsed": true
   },
   "outputs": [],
   "source": []
  }
 ],
 "metadata": {
  "kernelspec": {
   "display_name": "Python 3",
   "language": "python",
   "name": "python3"
  },
  "language_info": {
   "codemirror_mode": {
    "name": "ipython",
    "version": 3
   },
   "file_extension": ".py",
   "mimetype": "text/x-python",
   "name": "python",
   "nbconvert_exporter": "python",
   "pygments_lexer": "ipython3",
   "version": "3.5.1"
  }
 },
 "nbformat": 4,
 "nbformat_minor": 0
}
