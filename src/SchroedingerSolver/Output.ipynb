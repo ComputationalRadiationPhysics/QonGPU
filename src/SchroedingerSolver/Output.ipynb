{
 "cells": [
  {
   "cell_type": "code",
   "execution_count": 3,
   "metadata": {
    "collapsed": false
   },
   "outputs": [],
   "source": [
    "import sys\n",
    "import h5py\n",
    "import numpy as np\n",
    "from mpl_toolkits.mplot3d import Axes3D\n",
    "from matplotlib import pyplot as pp"
   ]
  },
  {
   "cell_type": "code",
   "execution_count": 18,
   "metadata": {
    "collapsed": false
   },
   "outputs": [
    {
     "name": "stdout",
     "output_type": "stream",
     "text": [
      "1000000\n",
      "10000000\n",
      "[  5.00000000e+01   0.00000000e+00   5.00000000e+00   0.00000000e+00\n",
      "   1.00000000e+06   1.00000000e+00   1.00000000e+01]\n"
     ]
    }
   ],
   "source": [
    "#/usr/bin/python\n",
    "# -*- coding: utf-8 -*-\n",
    "f = h5py.File(\"static_results.h5\",'r')\n",
    "dset = f.get(\"/numres\")\n",
    "dset2 = f.get(\"/params1d\")\n",
    "p = np.array(dset2)\n",
    "a = np.array(dset)\n",
    "f.close()\n",
    "dset=0;\n",
    "dset2=0;\n",
    "nx1=int(p[4])\n",
    "x=np.linspace(0,p[0],num=int(p[4]))\n",
    "fig=pp.figure()\n",
    "ax=fig.add_subplot(111)\n",
    "print(len(x))\n",
    "print(len(a))\n",
    "print(p)\n",
    "a=a\n",
    "i=0\n",
    "for i in range(0,int(p[6])):\n",
    "    ax.plot(x,a[i:i+nx1],label=\"Data:\"+str(i));\n",
    "a=0\n",
    "x=0\n",
    "pp.legend()    \n",
    "pp.show()\n"
   ]
  },
  {
   "cell_type": "code",
   "execution_count": null,
   "metadata": {
    "collapsed": false
   },
   "outputs": [],
   "source": []
  },
  {
   "cell_type": "code",
   "execution_count": 25,
   "metadata": {
    "collapsed": false
   },
   "outputs": [
    {
     "name": "stderr",
     "output_type": "stream",
     "text": [
      "/usr/lib/python3.5/site-packages/ipykernel/__main__.py:10: DeprecationWarning: using a non-integer number instead of an integer will result in an error in the future\n"
     ]
    },
    {
     "name": "stdout",
     "output_type": "stream",
     "text": [
      "1.5\n",
      "2.5\n",
      "3.5\n",
      "4.5\n",
      "5.5\n",
      "6.5\n",
      "7.5\n",
      "8.5\n",
      "9.5\n"
     ]
    }
   ],
   "source": [
    "E=-1.0\n",
    "nx=1e5\n",
    "ne=10\n",
    "x=10.0\n",
    "xmin=-10.0\n",
    "psi=np.zeros(int(nx))\n",
    "def V(x,t):\n",
    "    return x**2\n",
    "psi[1]=1e-9\n",
    "psi[nx-1]=1e-9\n",
    "t=1\n",
    "while(t<ne):\n",
    "    E=(t+0.5)\n",
    "    print(E)\n",
    "    for i in range(2,int(nx)):\n",
    "        dx=(x-xmin)/nx;\n",
    "        f1=(1+(dx**2)/6*(-E+V(xmin+dx*(i+1.),0.)))**(-1.)\n",
    "        f2=(1-5/6*dx**2*(-E+V(i*dx+xmin,0)))\n",
    "        f3=(1+dx**2/6*(-E+V((i-1)*dx+xmin,0)))\n",
    "        psi[i] = f1*(2*psi[i-1]*f2-psi[i-2]*f3)\n",
    "    pp.plot(psi,label=\"Data\"+str(t))    \n",
    "    t+=1\n",
    "pp.legend()\n",
    "pp.show()"
   ]
  },
  {
   "cell_type": "code",
   "execution_count": null,
   "metadata": {
    "collapsed": true
   },
   "outputs": [],
   "source": []
  }
 ],
 "metadata": {
  "kernelspec": {
   "display_name": "Python 3",
   "language": "python",
   "name": "python3"
  },
  "language_info": {
   "codemirror_mode": {
    "name": "ipython",
    "version": 3
   },
   "file_extension": ".py",
   "mimetype": "text/x-python",
   "name": "python",
   "nbconvert_exporter": "python",
   "pygments_lexer": "ipython3",
   "version": "3.5.1"
  }
 },
 "nbformat": 4,
 "nbformat_minor": 0
}
