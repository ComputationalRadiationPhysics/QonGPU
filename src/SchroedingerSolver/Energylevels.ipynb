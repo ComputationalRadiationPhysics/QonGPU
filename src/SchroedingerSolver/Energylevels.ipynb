{
 "cells": [
  {
   "cell_type": "code",
   "execution_count": 1,
   "metadata": {
    "collapsed": true
   },
   "outputs": [],
   "source": [
    "import sys\n",
    "import h5py\n",
    "import numpy as np\n",
    "from mpl_toolkits.mplot3d import Axes3D\n",
    "from matplotlib import pyplot as plt"
   ]
  },
  {
   "cell_type": "code",
   "execution_count": 9,
   "metadata": {
    "collapsed": false
   },
   "outputs": [],
   "source": [
    "#/usr/bin/python\n",
    "# -*- coding: utf-8 -*-\n",
    "f = h5py.File(\"static_results.h5\",'r')\n",
    "dset1 = f.get(\"/numres\")\n",
    "dset2 = f.get(\"/params1d\")\n",
    "dset3=f.get(\"/levels\")\n",
    "p = np.array(dset2)\n",
    "a = np.array(dset1)\n",
    "ind=np.array(dset3)\n",
    "f.close()\n",
    "dset1=0;\n",
    "dset2=0;\n",
    "dset3=0\n",
    "nx=int(p[4])\n",
    "ne = int(p[6])\n",
    "fig=plt.figure()\n",
    "ax=fig.add_subplot(111)\n",
    "x=np.linspace(0,p[0],nx)\n",
    "dx=p[0]/nx\n",
    "for i in range(0,ne):\n",
    "    \n",
    "\n",
    "\n",
    "for i in range(0,len(ind)-1):\n",
    "    ax.plot(x,a[int(ind[i])*nx:int(ind[i])*nx+nx]**2,label=\"$E_\"+str(i)+\"$\")\n",
    "\n",
    "a=0\n",
    "p=0\n",
    "ax.set_xlabel(\"$x$ $(a.u.)$\",size=20)\n",
    "ax.set_ylabel(\"$\\Psi_n$ (not normalized)\",size=20)\n",
    "plt.legend()\n",
    "plt.show()"
   ]
  },
  {
   "cell_type": "code",
   "execution_count": null,
   "metadata": {
    "collapsed": true
   },
   "outputs": [],
   "source": []
  }
 ],
 "metadata": {
  "kernelspec": {
   "display_name": "Python 3",
   "language": "python",
   "name": "python3"
  },
  "language_info": {
   "codemirror_mode": {
    "name": "ipython",
    "version": 3
   },
   "file_extension": ".py",
   "mimetype": "text/x-python",
   "name": "python",
   "nbconvert_exporter": "python",
   "pygments_lexer": "ipython3",
   "version": "3.5.1"
  }
 },
 "nbformat": 4,
 "nbformat_minor": 0
}
