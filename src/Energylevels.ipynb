{
 "cells": [
  {
   "cell_type": "code",
   "execution_count": null,
   "metadata": {
    "collapsed": false
   },
   "outputs": [
    {
     "ename": "MemoryError",
     "evalue": "",
     "output_type": "error",
     "traceback": [
      "\u001b[1;31m---------------------------------------------------------------------------\u001b[0m",
      "\u001b[1;31mMemoryError\u001b[0m                               Traceback (most recent call last)",
      "\u001b[1;32m<ipython-input-30-76fade0b2e30>\u001b[0m in \u001b[0;36m<module>\u001b[1;34m()\u001b[0m\n\u001b[0;32m     17\u001b[0m \u001b[0mdset3\u001b[0m\u001b[1;33m=\u001b[0m\u001b[0mf\u001b[0m\u001b[1;33m.\u001b[0m\u001b[0mget\u001b[0m\u001b[1;33m(\u001b[0m\u001b[1;34m\"/levels\"\u001b[0m\u001b[1;33m)\u001b[0m\u001b[1;33m\u001b[0m\u001b[0m\n\u001b[0;32m     18\u001b[0m \u001b[0mp\u001b[0m \u001b[1;33m=\u001b[0m \u001b[0mnp\u001b[0m\u001b[1;33m.\u001b[0m\u001b[0marray\u001b[0m\u001b[1;33m(\u001b[0m\u001b[0mdset2\u001b[0m\u001b[1;33m)\u001b[0m\u001b[1;33m\u001b[0m\u001b[0m\n\u001b[1;32m---> 19\u001b[1;33m \u001b[0ma\u001b[0m \u001b[1;33m=\u001b[0m \u001b[0mnp\u001b[0m\u001b[1;33m.\u001b[0m\u001b[0marray\u001b[0m\u001b[1;33m(\u001b[0m\u001b[0mdset1\u001b[0m\u001b[1;33m)\u001b[0m\u001b[1;33m\u001b[0m\u001b[0m\n\u001b[0m\u001b[0;32m     20\u001b[0m \u001b[0mind\u001b[0m\u001b[1;33m=\u001b[0m\u001b[0mnp\u001b[0m\u001b[1;33m.\u001b[0m\u001b[0marray\u001b[0m\u001b[1;33m(\u001b[0m\u001b[0mdset3\u001b[0m\u001b[1;33m)\u001b[0m\u001b[1;33m\u001b[0m\u001b[0m\n\u001b[0;32m     21\u001b[0m \u001b[0mprint\u001b[0m\u001b[1;33m(\u001b[0m\u001b[0mlen\u001b[0m\u001b[1;33m(\u001b[0m\u001b[0mind\u001b[0m\u001b[1;33m)\u001b[0m\u001b[1;33m)\u001b[0m\u001b[1;33m\u001b[0m\u001b[0m\n",
      "\u001b[1;31mMemoryError\u001b[0m: "
     ]
    }
   ],
   "source": [
    "#/usr/bin/python\n",
    "# -*- coding: utf-8 -*-\n",
    "import sys\n",
    "import h5py\n",
    "import numpy as np\n",
    "import functools\n",
    "from mpl_toolkits.mplot3d import Axes3D\n",
    "from matplotlib import pyplot as plt\n",
    "from sympy.physics.hydrogen import R_nl\n",
    "from sympy import var\n",
    "import gc\n",
    "\n",
    "\n",
    "f = h5py.File(\"static_results.h5\",'r')\n",
    "dset1 = f.get(\"/numres\")\n",
    "dset2 = f.get(\"/params1d\")\n",
    "dset3=f.get(\"/levels\")\n",
    "p = np.array(dset2)\n",
    "a = np.array(dset1)\n",
    "ind=np.array(dset3)\n",
    "print(len(ind))\n",
    "f.close()\n",
    "dset1=0;\n",
    "dset2=0;\n",
    "dset3=0\n",
    "nx=int(p[4])\n",
    "ne = int(p[6])\n",
    "\n",
    "x=np.linspace(0,p[0],nx-1)\n",
    "dx=p[0]/nx\n",
    "fig=plt.figure()\n",
    "ax=fig.add_subplot(111)\n",
    "# a[int(ind[i])*nx:int(ind[i])*nx+nx] = normalize(a[int(ind[i])*nx:int(ind[i])*nx+nx],p[0],nx)\n",
    "for i in range(0,len(ind)): \n",
    "    ax.plot(x,a[int(ind[i])*nx+1:int(ind[i])*nx+nx],label=\"$E_{\"+str(i)+\"}$\")\n",
    "#    ax.plot(x,a[i*nx+1:(i+1)*nx])\n",
    "ax.set_xlabel(\"$x$ $(a_0)$\",size=20)\n",
    "ax.set_ylabel(\"$|\\Psi_n|^2$ (not normed)\",size=20)\n",
    "#plt.legend()\n",
    "i=0\n",
    "plt.legend()\n",
    "plt.show()\n",
    "x=0\n",
    "a=0\n",
    "p=0"
   ]
  },
  {
   "cell_type": "code",
   "execution_count": 11,
   "metadata": {
    "collapsed": false
   },
   "outputs": [
    {
     "data": {
      "text/plain": [
       "74.50580596923828"
      ]
     },
     "execution_count": 11,
     "metadata": {},
     "output_type": "execute_result"
    }
   ],
   "source": [
    "8*1e7*1e3/1024**3"
   ]
  },
  {
   "cell_type": "code",
   "execution_count": null,
   "metadata": {
    "collapsed": true
   },
   "outputs": [],
   "source": []
  }
 ],
 "metadata": {
  "kernelspec": {
   "display_name": "Python 3",
   "language": "python",
   "name": "python3"
  },
  "language_info": {
   "codemirror_mode": {
    "name": "ipython",
    "version": 3
   },
   "file_extension": ".py",
   "mimetype": "text/x-python",
   "name": "python",
   "nbconvert_exporter": "python",
   "pygments_lexer": "ipython3",
   "version": "3.5.1"
  }
 },
 "nbformat": 4,
 "nbformat_minor": 0
}
