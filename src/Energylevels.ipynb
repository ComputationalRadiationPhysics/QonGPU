{
 "cells": [
  {
   "cell_type": "code",
   "execution_count": 1,
   "metadata": {
    "collapsed": true
   },
   "outputs": [],
   "source": []
  },
  {
   "cell_type": "code",
   "execution_count": 3,
   "metadata": {
    "collapsed": true
   },
   "outputs": [],
   "source": [
    "def normalize(a,xmax,nx):\n",
    "    c=0\n",
    "    dx=xmax/float(nx)\n",
    "    \n",
    "    for i in range(0,int(xmax),nx):\n",
    "        c=c+a[i]**2*dx\n",
    "    print(c)\n",
    "    return a/np.sqrt(c)\n",
    "    "
   ]
  },
  {
   "cell_type": "code",
   "execution_count": null,
   "metadata": {
    "collapsed": false
   },
   "outputs": [],
   "source": []
  },
  {
   "cell_type": "code",
   "execution_count": 5,
   "metadata": {
    "collapsed": false
   },
   "outputs": [
    {
     "name": "stdout",
     "output_type": "stream",
     "text": [
      "3\n"
     ]
    }
   ],
   "source": [
    "#/usr/bin/python\n",
    "# -*- coding: utf-8 -*-\n",
    "import sys\n",
    "import h5py\n",
    "import numpy as np\n",
    "import functools\n",
    "from mpl_toolkits.mplot3d import Axes3D\n",
    "from matplotlib import pyplot as plt\n",
    "import gc\n",
    "\n",
    "\n",
    "f = h5py.File(\"static_results.h5\",'r')\n",
    "dset1 = f.get(\"/numres\")\n",
    "dset2 = f.get(\"/params1d\")\n",
    "dset3=f.get(\"/levels\")\n",
    "p = np.array(dset2)\n",
    "a = np.array(dset1)\n",
    "ind=np.array(dset3)\n",
    "print(len(ind))\n",
    "f.close()\n",
    "dset1=0;\n",
    "dset2=0;\n",
    "dset3=0\n",
    "nx=int(p[4])\n",
    "ne = int(p[6])\n",
    "\n",
    "x=np.linspace(0,p[0],nx-1)\n",
    "dx=p[0]/nx\n",
    "fig=plt.figure()\n",
    "ax=fig.add_subplot(111)\n",
    "# a[int(ind[i])*nx:int(ind[i])*nx+nx] = normalize(a[int(ind[i])*nx:int(ind[i])*nx+nx],p[0],nx)\n",
    "for i in range(0,len(ind)): \n",
    "    ax.plot(x,a[int(ind[i])*nx+1:int(ind[i])*nx+nx]**2,label=\"$E_{\"+str(i)+\"}$\")\n",
    "#    ax.plot(x,a[i*nx+1:(i+1)*nx])\n",
    "ax.set_xlabel(\"$x$ $(a_0)$\",size=20)\n",
    "ax.set_ylabel(\"$|\\Psi_n|^2$ (not normed)\",size=20)\n",
    "#plt.legend()\n",
    "i=0\n",
    "plt.legend()\n",
    "plt.show()\n",
    "x=0\n",
    "a=0\n",
    "p=0"
   ]
  },
  {
   "cell_type": "code",
   "execution_count": 117,
   "metadata": {
    "collapsed": true
   },
   "outputs": [],
   "source": []
  },
  {
   "cell_type": "code",
   "execution_count": null,
   "metadata": {
    "collapsed": true
   },
   "outputs": [],
   "source": []
  }
 ],
 "metadata": {
  "kernelspec": {
   "display_name": "Python 3",
   "language": "python",
   "name": "python3"
  },
  "language_info": {
   "codemirror_mode": {
    "name": "ipython",
    "version": 3
   },
   "file_extension": ".py",
   "mimetype": "text/x-python",
   "name": "python",
   "nbconvert_exporter": "python",
   "pygments_lexer": "ipython3",
   "version": "3.5.1"
  }
 },
 "nbformat": 4,
 "nbformat_minor": 0
}
