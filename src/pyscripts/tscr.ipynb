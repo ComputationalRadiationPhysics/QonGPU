{
 "cells": [
  {
   "cell_type": "code",
   "execution_count": 42,
   "metadata": {
    "collapsed": false,
    "scrolled": true
   },
   "outputs": [
    {
     "ename": "KeyError",
     "evalue": "\"Unable to open object (Object 'dset1real' doesn't exist)\"",
     "output_type": "error",
     "traceback": [
      "\u001b[1;31m---------------------------------------------------------------------------\u001b[0m",
      "\u001b[1;31mKeyError\u001b[0m                                  Traceback (most recent call last)",
      "\u001b[1;32m<ipython-input-42-094afcd6c22f>\u001b[0m in \u001b[0;36m<module>\u001b[1;34m()\u001b[0m\n\u001b[0;32m     19\u001b[0m \u001b[1;31m#e = (dstr+r) in file\u001b[0m\u001b[1;33m\u001b[0m\u001b[1;33m\u001b[0m\u001b[0m\n\u001b[0;32m     20\u001b[0m \u001b[1;31m#print(e)\u001b[0m\u001b[1;33m\u001b[0m\u001b[1;33m\u001b[0m\u001b[0m\n\u001b[1;32m---> 21\u001b[1;33m \u001b[0mdsetr\u001b[0m \u001b[1;33m=\u001b[0m \u001b[0mnp\u001b[0m\u001b[1;33m.\u001b[0m\u001b[0marray\u001b[0m\u001b[1;33m(\u001b[0m\u001b[0mfile\u001b[0m\u001b[1;33m[\u001b[0m\u001b[0mdstr\u001b[0m\u001b[1;33m+\u001b[0m\u001b[0mr\u001b[0m\u001b[1;33m]\u001b[0m\u001b[1;33m)\u001b[0m\u001b[1;33m\u001b[0m\u001b[0m\n\u001b[0m\u001b[0;32m     22\u001b[0m \u001b[0mdseti\u001b[0m \u001b[1;33m=\u001b[0m \u001b[0mnp\u001b[0m\u001b[1;33m.\u001b[0m\u001b[0marray\u001b[0m\u001b[1;33m(\u001b[0m\u001b[0mfile\u001b[0m\u001b[1;33m[\u001b[0m\u001b[0mdstr\u001b[0m\u001b[1;33m+\u001b[0m\u001b[0mim\u001b[0m\u001b[1;33m]\u001b[0m\u001b[1;33m)\u001b[0m\u001b[1;33m\u001b[0m\u001b[0m\n\u001b[0;32m     23\u001b[0m \u001b[0mparam\u001b[0m \u001b[1;33m=\u001b[0m \u001b[0mnp\u001b[0m\u001b[1;33m.\u001b[0m\u001b[0marray\u001b[0m\u001b[1;33m(\u001b[0m\u001b[0mfile\u001b[0m\u001b[1;33m[\u001b[0m\u001b[1;34m\"/params\"\u001b[0m\u001b[1;33m]\u001b[0m\u001b[1;33m)\u001b[0m\u001b[1;33m\u001b[0m\u001b[0m\n",
      "\u001b[1;32mh5py/_objects.pyx\u001b[0m in \u001b[0;36mh5py._objects.with_phil.wrapper (/build/python-h5py/src/h5py-2.6.0/h5py/_objects.c:2678)\u001b[1;34m()\u001b[0m\n",
      "\u001b[1;32mh5py/_objects.pyx\u001b[0m in \u001b[0;36mh5py._objects.with_phil.wrapper (/build/python-h5py/src/h5py-2.6.0/h5py/_objects.c:2636)\u001b[1;34m()\u001b[0m\n",
      "\u001b[1;32m/usr/lib/python3.5/site-packages/h5py/_hl/group.py\u001b[0m in \u001b[0;36m__getitem__\u001b[1;34m(self, name)\u001b[0m\n\u001b[0;32m    164\u001b[0m                 \u001b[1;32mraise\u001b[0m \u001b[0mValueError\u001b[0m\u001b[1;33m(\u001b[0m\u001b[1;34m\"Invalid HDF5 object reference\"\u001b[0m\u001b[1;33m)\u001b[0m\u001b[1;33m\u001b[0m\u001b[0m\n\u001b[0;32m    165\u001b[0m         \u001b[1;32melse\u001b[0m\u001b[1;33m:\u001b[0m\u001b[1;33m\u001b[0m\u001b[0m\n\u001b[1;32m--> 166\u001b[1;33m             \u001b[0moid\u001b[0m \u001b[1;33m=\u001b[0m \u001b[0mh5o\u001b[0m\u001b[1;33m.\u001b[0m\u001b[0mopen\u001b[0m\u001b[1;33m(\u001b[0m\u001b[0mself\u001b[0m\u001b[1;33m.\u001b[0m\u001b[0mid\u001b[0m\u001b[1;33m,\u001b[0m \u001b[0mself\u001b[0m\u001b[1;33m.\u001b[0m\u001b[0m_e\u001b[0m\u001b[1;33m(\u001b[0m\u001b[0mname\u001b[0m\u001b[1;33m)\u001b[0m\u001b[1;33m,\u001b[0m \u001b[0mlapl\u001b[0m\u001b[1;33m=\u001b[0m\u001b[0mself\u001b[0m\u001b[1;33m.\u001b[0m\u001b[0m_lapl\u001b[0m\u001b[1;33m)\u001b[0m\u001b[1;33m\u001b[0m\u001b[0m\n\u001b[0m\u001b[0;32m    167\u001b[0m \u001b[1;33m\u001b[0m\u001b[0m\n\u001b[0;32m    168\u001b[0m         \u001b[0motype\u001b[0m \u001b[1;33m=\u001b[0m \u001b[0mh5i\u001b[0m\u001b[1;33m.\u001b[0m\u001b[0mget_type\u001b[0m\u001b[1;33m(\u001b[0m\u001b[0moid\u001b[0m\u001b[1;33m)\u001b[0m\u001b[1;33m\u001b[0m\u001b[0m\n",
      "\u001b[1;32mh5py/_objects.pyx\u001b[0m in \u001b[0;36mh5py._objects.with_phil.wrapper (/build/python-h5py/src/h5py-2.6.0/h5py/_objects.c:2678)\u001b[1;34m()\u001b[0m\n",
      "\u001b[1;32mh5py/_objects.pyx\u001b[0m in \u001b[0;36mh5py._objects.with_phil.wrapper (/build/python-h5py/src/h5py-2.6.0/h5py/_objects.c:2636)\u001b[1;34m()\u001b[0m\n",
      "\u001b[1;32mh5py/h5o.pyx\u001b[0m in \u001b[0;36mh5py.h5o.open (/build/python-h5py/src/h5py-2.6.0/h5py/h5o.c:3564)\u001b[1;34m()\u001b[0m\n",
      "\u001b[1;31mKeyError\u001b[0m: \"Unable to open object (Object 'dset1real' doesn't exist)\""
     ]
    }
   ],
   "source": [
    "import numpy as np \n",
    "import matplotlib.pyplot as plt\n",
    "import matplotlib as mpl\n",
    "import h5py\n",
    "import cmath\n",
    "\n",
    "mpl.rcParams[\"mathtext.fontset\"] = \"stix\"\n",
    "#%matplotlib inline\n",
    "fig = plt.figure(figsize=(15,8))\n",
    "ax = fig.add_subplot(111)\n",
    "floc = \"../../build/res.h5\"\n",
    "file = h5py.File(floc)\n",
    "\n",
    "\n",
    "t=1\n",
    "dstr =  \"/dset\"+str(t)\n",
    "r = \"real\"\n",
    "im = \"img\"\n",
    "#e = (dstr+r) in file\n",
    "#print(e)\n",
    "dsetr = np.array(file[dstr+r])\n",
    "dseti = np.array(file[dstr+im])\n",
    "param = np.array(file[\"/params\"])\n",
    "\n",
    "\n",
    "\n",
    "x = np.linspace(param[1],param[0],param[4])\n",
    "\n",
    "\n",
    "#ax.plot(x, dsetr, label = \"$\\mathrm{Re}\\{ \\psi_n \\} \\ numerical $\")\n",
    "ax.plot(x, dseti, label = \"$\\mathrm{Im}\\{ \\psi_n \\} \\ numerical $\")\n",
    "# ax.plot(x, dsetr**2+dseti**2, label = \"$|\\psi(x)|^2 \\ numerical$\")\n",
    "i = 0\n",
    "dstr =  \"/dset\"+str(i)\n",
    "dsetr2 = np.array(file[dstr+r])\n",
    "dseti2 = np.array(file[dstr+im])\n",
    "E = param[-1]\n",
    "#E = -1.0\n",
    "dt = (param[2] - param[3])/param[5]\n",
    "psi = dsetr2 + 1j * dseti2\n",
    "\n",
    "i =  t\n",
    "#i = np.int32(np.pi/(dt*E))\n",
    "\n",
    "print(i)\n",
    "#t -= 1\n",
    "\n",
    "U = np.exp(- 1j* E * i * dt)\n",
    "#U = -np.sin(E*t*dt)\n",
    "i = t\n",
    "psi = psi*U\n",
    "\n",
    "print(U)\n",
    "print(param)\n",
    "\n",
    "\n",
    "#ax.plot(x, np.abs(psi.imag-dseti), \"o\",label = \" $\\Delta \\mathfrak{Im}\\{\\psi_n\\}$\")\n",
    "#ax.plot(x,psi.real, label = \"$\\mathrm{Re}\\{\\psi_{n}\\} \\ analytical$\")\n",
    "ax.plot(x, psi.imag, label = \"$\\mathrm{Im}\\{ \\psi_n \\} \\ analytical $\")\n",
    "#ax.plot(x, psi.real**2+psi.imag**2)\n",
    "ax.set_xlabel(\"$x \\ (a.u)$\", size = 15)\n",
    "ax.set_ylabel(\"$\\psi_n(x)$\", size = 15)\n",
    "ax.set_title(\"Analytical and numerical calculation at $t_j = t_{\"+str(i)+\"}$ with $ \\Delta t =\"+str(dt)+\"$\",\n",
    "          size = 15, y = 1.05)\n",
    "plt.legend(loc=\"best\",prop={'size':10})\n",
    "plt.show()\n",
    "\n",
    "\n",
    "\n",
    "\n",
    "file.close()"
   ]
  },
  {
   "cell_type": "code",
   "execution_count": 13,
   "metadata": {
    "collapsed": false
   },
   "outputs": [],
   "source": [
    "\n",
    "file = h5py.File(\"../../build/copytest.h5\")\n",
    "data = np.array(file[\"/dset0real\"])\n",
    "plt.plot(data)\n",
    "plt.show()\n",
    "file.close()"
   ]
  },
  {
   "cell_type": "code",
   "execution_count": null,
   "metadata": {
    "collapsed": true
   },
   "outputs": [],
   "source": []
  }
 ],
 "metadata": {
  "kernelspec": {
   "display_name": "Python 3",
   "language": "python",
   "name": "python3"
  },
  "language_info": {
   "codemirror_mode": {
    "name": "ipython",
    "version": 3
   },
   "file_extension": ".py",
   "mimetype": "text/x-python",
   "name": "python",
   "nbconvert_exporter": "python",
   "pygments_lexer": "ipython3",
   "version": "3.5.1"
  }
 },
 "nbformat": 4,
 "nbformat_minor": 0
}
