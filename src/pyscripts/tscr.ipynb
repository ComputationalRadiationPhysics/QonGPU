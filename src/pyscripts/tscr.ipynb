{
 "cells": [
  {
   "cell_type": "code",
   "execution_count": 1,
   "metadata": {
    "collapsed": false
   },
   "outputs": [
    {
     "name": "stdout",
     "output_type": "stream",
     "text": [
      "1001\n",
      "(0.104519749603+0.994522811173j)\n",
      "[  1.50000000e+01   0.00000000e+00   8.00000000e+00   0.00000000e+00\n",
      "   1.00000000e+04   3.00000000e+03   1.00000000e+00  -5.49782000e-01]\n"
     ]
    }
   ],
   "source": [
    "import numpy as np \n",
    "\n",
    "import matplotlib.pyplot as plt\n",
    "import matplotlib as mpl\n",
    "import h5py\n",
    "import cmath\n",
    "\n",
    "mpl.rcParams[\"mathtext.fontset\"] = \"stix\"\n",
    "\n",
    "fig = plt.figure(figsize=(20,10))\n",
    "ax = fig.add_subplot(111)\n",
    "floc = \"../../build/res.h5\"\n",
    "file = h5py.File(floc)\n",
    "\n",
    "t = 1001\n",
    "dstr =  \"/dset\"+str(t)\n",
    "r = \"real\"\n",
    "im = \"img\"\n",
    "#e = (dstr+r) in file\n",
    "#print(e)\n",
    "dsetr = np.array(file[dstr+r])\n",
    "dseti = np.array(file[dstr+im])\n",
    "param = np.array(file[\"/params\"])\n",
    "\n",
    "\n",
    "\n",
    "x = np.linspace(param[1],param[0],param[4])\n",
    "\n",
    "\n",
    "ax.plot(x, dsetr, label = \"$\\mathfrak{Re}\\{ \\psi_n \\} \\ numerical $\")\n",
    "ax.plot(x, dseti, label = \"$\\mathfrak{Im}\\{ \\psi_n \\} \\ numerical $\")\n",
    "#plt.plot(x, dsetr**2+dseti**2, label = \"$|\\psi(x)|^2 \\ numerical$\")\n",
    "i = 1\n",
    "dstr =  \"/dset\"+str(i)\n",
    "dsetr2 = np.array(file[dstr+r])\n",
    "dseti2 = np.array(file[dstr+im])\n",
    "E = param[-1]\n",
    "dt = (param[2] - param[3])/param[5]\n",
    "psi = dsetr2 + 1j * dseti2\n",
    "\n",
    "i =  t\n",
    "#i = np.int32(np.pi/(dt*E))\n",
    "\n",
    "print(i)\n",
    "t -= 1\n",
    "U = np.exp(-1j* E * t * dt)\n",
    "i = t\n",
    "psi = psi*U\n",
    "\n",
    "print(U)\n",
    "print(param)\n",
    "\n",
    "#plt.plot(x, np.abs(psi.imag-dseti), \"--\",label = \" $\\Delta \\mathfrak{Im}\\{\\psi_n\\}$\")\n",
    "ax.plot(x,psi.real, label = \"$\\mathfrak{Re}\\{\\psi_{n}\\} \\ analytical$\")\n",
    "ax.plot(x, psi.imag, label = \"$\\mathfrak{Im}\\{ \\psi_n \\} \\ analytical $\")\n",
    "ax.set_xlabel(\"$x \\ (a.u)$\", size = 30)\n",
    "ax.set_ylabel(\"$\\psi_n(x)$\", size = 30)\n",
    "ax.set_title(\"Analytical and numerical calculation at $t_j = t_{\"+str(i)+\"}$ with $ \\Delta t =\"+str(dt)+\"$\",\n",
    "          size = 25, y = 1.05)\n",
    "plt.legend(loc=\"best\",prop={'size':20})\n",
    "plt.show()\n",
    "\n",
    "\n",
    "\n",
    "\n",
    "file.close()"
   ]
  },
  {
   "cell_type": "code",
   "execution_count": 22,
   "metadata": {
    "collapsed": false
   },
   "outputs": [],
   "source": [
    "\"\"\"\n",
    "A simple example of an animated plot\n",
    "\"\"\"\n",
    "import numpy as np\n",
    "import matplotlib.pyplot as plt\n",
    "import matplotlib.animation as animation\n",
    "\n",
    "fig, ax = plt.subplots()\n",
    "\n",
    "x = np.arange(0, 2*np.pi, 0.01)\n",
    "line, = ax.plot(x, np.sin(x))\n",
    "\n",
    "\n",
    "def animate(i):\n",
    "    line.set_ydata(np.sin(x + i/10.0))  # update the data\n",
    "    return line,\n",
    "\n",
    "\n",
    "# Init only required for blitting to give a clean slate.\n",
    "def init():\n",
    "    line.set_ydata(np.ma.array(x, mask=True))\n",
    "    return line,\n",
    "\n",
    "ani = animation.FuncAnimation(fig, animate, np.arange(1, 200), init_func=init,\n",
    "                              interval=25, blit=True)\n",
    "plt.show()"
   ]
  },
  {
   "cell_type": "code",
   "execution_count": null,
   "metadata": {
    "collapsed": true
   },
   "outputs": [],
   "source": []
  }
 ],
 "metadata": {
  "kernelspec": {
   "display_name": "Python 3",
   "language": "python",
   "name": "python3"
  },
  "language_info": {
   "codemirror_mode": {
    "name": "ipython",
    "version": 3
   },
   "file_extension": ".py",
   "mimetype": "text/x-python",
   "name": "python",
   "nbconvert_exporter": "python",
   "pygments_lexer": "ipython3",
   "version": "3.4.3"
  }
 },
 "nbformat": 4,
 "nbformat_minor": 0
}
