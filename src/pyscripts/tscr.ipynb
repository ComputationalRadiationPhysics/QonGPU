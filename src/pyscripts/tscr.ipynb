{
 "cells": [
  {
   "cell_type": "code",
   "execution_count": 8,
   "metadata": {
    "collapsed": false,
    "scrolled": true
   },
   "outputs": [
    {
     "name": "stdout",
     "output_type": "stream",
     "text": [
      "0\n",
      "1\n",
      "[ 0.  0.  0. ...,  0.  0.  0.]\n",
      "[  1.00000000e+02  -1.00000000e+02   2.20000000e+03  -1.00000000e+02\n",
      "   1.00000000e+05   1.00000000e+06   1.71061493e+09   0.00000000e+00]\n"
     ]
    }
   ],
   "source": [
    "import numpy as np \n",
    "import matplotlib.pyplot as plt\n",
    "import matplotlib as mpl\n",
    "import h5py\n",
    "import cmath\n",
    "\n",
    "mpl.rcParams[\"mathtext.fontset\"] = \"stix\"\n",
    "#%matplotlib inline\n",
    "fig = plt.figure(figsize=(15,8))\n",
    "ax = fig.add_subplot(111)\n",
    "floc = \"../../build/res.h5\"\n",
    "file = h5py.File(floc)\n",
    "\n",
    "\n",
    "t=101\n",
    "dstr =  \"/dset\"+str(t)\n",
    "r = \"real\"\n",
    "im = \"img\"\n",
    "#e = (dstr+r) in file\n",
    "#print(e)\n",
    "dsetr = np.array(file[dstr+r])\n",
    "dseti = np.array(file[dstr+im])\n",
    "param = np.array(file[\"/params\"])\n",
    "\n",
    "\n",
    "\n",
    "x = np.linspace(param[1],param[0],param[4])\n",
    "\n",
    "\n",
    "#ax.plot(x, dsetr, label = \"$\\mathrm{Re}\\{ \\psi_n \\} \\ numerical $\")\n",
    "#ax.plot(x, dseti, label = \"$\\mathrm{Im}\\{ \\psi_n \\} \\ numerical $\")\n",
    "#ax.plot(x, dsetr**2+dseti**2, label = \"$|\\psi(x)|^2 \\ numerical$\")\n",
    "i = 0\n",
    "dstr =  \"/dset\"+str(i)\n",
    "dsetr2 = np.array(file[dstr+r])\n",
    "dseti2 = np.array(file[dstr+im])\n",
    "E = 0.5#param[-1]+0.01\n",
    "#E = -1.0\n",
    "dt = (param[2] - param[3])/param[5]\n",
    "psi = dsetr2 + 1j * dseti2\n",
    "\n",
    "i =  0\n",
    "#i = np.int32(np.pi/(dt*E))\n",
    "\n",
    "print(i)\n",
    "#t -= 1\n",
    "\n",
    "U = np.exp(- 1j* E * i * dt)\n",
    "#U = -np.sin(E*t*dt)\n",
    "i = t\n",
    "#ax.plot(x,psi.real, label = \"$\\mathrm{Re}\\{\\psi_{n}\\} \\ analytical$\")\n",
    "print(t)\n",
    "#ax.plot(x, psi.imag, label = \"$\\mathrm{Im}\\{ \\psi_n \\} \\ initial $\")\n",
    "psi = psi*U\n",
    "\n",
    "print(param)\n",
    "\n",
    "\n",
    "#ax.plot(x, np.abs(psi.imag-dseti), \"o\",label = \" $\\Delta \\mathfrak{Im}\\{\\psi_n\\}$\")\n",
    "#ax.plot(x,psi.real, label = \"$\\mathrm{Re}\\{\\psi_{n}\\} \\ analytical$\")\n",
    "ax.plot(x, psi.imag, label = \"$\\mathrm{Im}\\{ \\psi_n \\} \\ analytical $\")\n",
    "#ax.plot(x, psi.real**2+psi.imag**2)\n",
    "\n",
    "ax.set_xlabel(\"$x \\ (a.u)$\", size = 15)\n",
    "ax.set_ylabel(\"$\\psi_n(x)$\", size = 15)\n",
    "ax.set_title(\"Analytical and numerical calculation at $t_j = t_{\"+str(i)+\"}$ with $ \\Delta t =\"+str(dt)+\"$\",\n",
    "          size = 15, y = 1.05)\n",
    "plt.legend(loc=\"best\",prop={'size':10})\n",
    "plt.show()\n",
    "\n",
    "\n",
    "\n",
    "\n",
    "file.close()"
   ]
  },
  {
   "cell_type": "code",
   "execution_count": 15,
   "metadata": {
    "collapsed": false
   },
   "outputs": [],
   "source": [
    "\n",
    "file = h5py.File(\"../../build/copytest.h5\")\n",
    "data = np.array(file[\"/dset0real\"])\n",
    "plt.plot(data)\n",
    "plt.show()\n",
    "file.close()"
   ]
  },
  {
   "cell_type": "code",
   "execution_count": null,
   "metadata": {
    "collapsed": true
   },
   "outputs": [],
   "source": []
  }
 ],
 "metadata": {
  "kernelspec": {
   "display_name": "Python 3",
   "language": "python",
   "name": "python3"
  },
  "language_info": {
   "codemirror_mode": {
    "name": "ipython",
    "version": 3
   },
   "file_extension": ".py",
   "mimetype": "text/x-python",
   "name": "python",
   "nbconvert_exporter": "python",
   "pygments_lexer": "ipython3",
   "version": "3.4.3"
  }
 },
 "nbformat": 4,
 "nbformat_minor": 0
}
