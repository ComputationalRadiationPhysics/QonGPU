{
 "cells": [
  {
   "cell_type": "code",
   "execution_count": 8,
   "metadata": {
    "collapsed": false
   },
   "outputs": [],
   "source": [
    "import numpy as np \n",
    "import matplotlib.pyplot as plt\n",
    "import h5py\n",
    "\n",
    "\n",
    "floc = \"../../build/res_0_0_0.h5\"\n",
    "file = h5py.File(floc)\n",
    "\n",
    "hstr = \"host_debug_\"\n",
    "\n",
    "i = 100\n",
    "dstr = \"chunk_\"\n",
    "\n",
    "g1 = file[\"/data/\"+str(0)]\n",
    "s1 = np.array(g1[hstr+\"reals\"])\n",
    "s2 = np.array(g1[hstr+\"img\"])\n",
    "\n",
    "g2 = file[\"data/\"+str(i)]\n",
    "s3 = np.array(g2[dstr+\"reals\"])\n",
    "s4 = np.array(g2[dstr+\"img\"])\n",
    "psi1 = s3 + 1j * s4\n",
    "psi2 = s1 + 1j * s2\n",
    "plt.plot(s1**2+s2**2)\n",
    "plt.plot(s3**2+s4**2)\n",
    "plt.show()\n",
    "\n",
    "file.close()"
   ]
  },
  {
   "cell_type": "code",
   "execution_count": null,
   "metadata": {
    "collapsed": true
   },
   "outputs": [],
   "source": []
  }
 ],
 "metadata": {
  "kernelspec": {
   "display_name": "Python 3",
   "language": "python",
   "name": "python3"
  },
  "language_info": {
   "codemirror_mode": {
    "name": "ipython",
    "version": 3
   },
   "file_extension": ".py",
   "mimetype": "text/x-python",
   "name": "python",
   "nbconvert_exporter": "python",
   "pygments_lexer": "ipython3",
   "version": "3.5.1"
  }
 },
 "nbformat": 4,
 "nbformat_minor": 0
}
