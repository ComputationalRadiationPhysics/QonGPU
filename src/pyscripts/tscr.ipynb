{
 "cells": [
  {
   "cell_type": "code",
   "execution_count": null,
   "metadata": {
    "collapsed": false
   },
   "outputs": [
    {
     "name": "stdout",
     "output_type": "stream",
     "text": [
      "1001\n",
      "(0.998853136444-0.0478791375865j)\n",
      "[  3.00000000e+01   0.00000000e+00   8.00000000e+00   0.00000000e+00\n",
      "   1.00000000e+04   1.00000000e+04   1.00000000e+00  -5.98120000e-02]\n"
     ]
    }
   ],
   "source": [
    "import numpy as np \n",
    "\n",
    "import matplotlib.pyplot as plt\n",
    "import matplotlib as mpl\n",
    "import h5py\n",
    "import cmath\n",
    "mpl.rcParams[\"mathtext.fontset\"] = \"stix\"\n",
    "\n",
    "fig = plt.figure(figsize=(20,10))\n",
    "ax = fig.add_subplot(111)\n",
    "floc = \"../../build/res.h5\"\n",
    "file = h5py.File(floc)\n",
    "\n",
    "\n",
    "t=1001\n",
    "dstr =  \"/dset\"+str(t)\n",
    "r = \"real\"\n",
    "im = \"img\"\n",
    "#e = (dstr+r) in file\n",
    "#print(e)\n",
    "dsetr = np.array(file[dstr+r])\n",
    "dseti = np.array(file[dstr+im])\n",
    "param = np.array(file[\"/params\"])\n",
    "\n",
    "\n",
    "\n",
    "x = np.linspace(param[1],param[0],param[4])\n",
    "\n",
    "\n",
    "ax.plot(x, dsetr, label = \"$\\mathfrak{Re}\\{ \\psi_n \\} \\ numerical $\")\n",
    "ax.plot(x, dseti, label = \"$\\mathfrak{Im}\\{ \\psi_n \\} \\ numerical $\")\n",
    "ax.plot(x, dsetr**2+dseti**2, label = \"$|\\psi(x)|^2 \\ numerical$\")\n",
    "i = 1\n",
    "dstr =  \"/dset\"+str(i)\n",
    "dsetr2 = np.array(file[dstr+r])\n",
    "dseti2 = np.array(file[dstr+im])\n",
    "E = param[-1]\n",
    "#E = -1.0\n",
    "dt = (param[2] - param[3])/param[5]\n",
    "psi = dsetr2 + 1j * dseti2\n",
    "\n",
    "i =  t\n",
    "#i = np.int32(np.pi/(dt*E))\n",
    "\n",
    "print(i)\n",
    "#t -= 1\n",
    "\n",
    "U = np.exp( 1j* E * i * dt)\n",
    "#U = -np.sin(E*t*dt)\n",
    "i = t\n",
    "psi = psi*U\n",
    "\n",
    "print(U)\n",
    "print(param)\n",
    "\n",
    "\n",
    "#ax.plot(x, np.abs(psi.imag-dseti), \"o\",label = \" $\\Delta \\mathfrak{Im}\\{\\psi_n\\}$\")\n",
    "ax.plot(x,psi.real, label = \"$\\mathfrak{Re}\\{\\psi_{n}\\} \\ analytical$\")\n",
    "ax.plot(x, psi.imag, label = \"$\\mathfrak{Im}\\{ \\psi_n \\} \\ analytical $\")\n",
    "ax.plot(x, psi.real**2+psi.imag**2)\n",
    "ax.set_xlabel(\"$x \\ (a.u)$\", size = 30)\n",
    "ax.set_ylabel(\"$\\psi_n(x)$\", size = 30)\n",
    "ax.set_title(\"Analytical and numerical calculation at $t_j = t_{\"+str(i)+\"}$ with $ \\Delta t =\"+str(dt)+\"$\",\n",
    "          size = 25, y = 1.05)\n",
    "plt.legend(loc=\"best\",prop={'size':20})\n",
    "plt.show()\n",
    "\n",
    "\n",
    "\n",
    "\n",
    "file.close()"
   ]
  },
  {
   "cell_type": "code",
   "execution_count": 1,
   "metadata": {
    "collapsed": false
   },
   "outputs": [
    {
     "ename": "NameError",
     "evalue": "name 'h5py' is not defined",
     "output_type": "error",
     "traceback": [
      "\u001b[1;31m---------------------------------------------------------------------------\u001b[0m",
      "\u001b[1;31mNameError\u001b[0m                                 Traceback (most recent call last)",
      "\u001b[1;32m<ipython-input-1-e0ed22902de6>\u001b[0m in \u001b[0;36m<module>\u001b[1;34m()\u001b[0m\n\u001b[1;32m----> 1\u001b[1;33m \u001b[0mfile\u001b[0m \u001b[1;33m=\u001b[0m \u001b[0mh5py\u001b[0m\u001b[1;33m.\u001b[0m\u001b[0mFile\u001b[0m\u001b[1;33m(\u001b[0m\u001b[1;34m\"../../build/copytest.h5\"\u001b[0m\u001b[1;33m)\u001b[0m\u001b[1;33m\u001b[0m\u001b[0m\n\u001b[0m\u001b[0;32m      2\u001b[0m \u001b[0mdata\u001b[0m \u001b[1;33m=\u001b[0m \u001b[0mnp\u001b[0m\u001b[1;33m.\u001b[0m\u001b[0marray\u001b[0m\u001b[1;33m(\u001b[0m\u001b[0mfile\u001b[0m\u001b[1;33m[\u001b[0m\u001b[1;34m\"/dset0real\"\u001b[0m\u001b[1;33m]\u001b[0m\u001b[1;33m)\u001b[0m\u001b[1;33m\u001b[0m\u001b[0m\n\u001b[0;32m      3\u001b[0m \u001b[0mplt\u001b[0m\u001b[1;33m.\u001b[0m\u001b[0mplot\u001b[0m\u001b[1;33m(\u001b[0m\u001b[0mdata\u001b[0m\u001b[1;33m)\u001b[0m\u001b[1;33m\u001b[0m\u001b[0m\n\u001b[0;32m      4\u001b[0m \u001b[0mplt\u001b[0m\u001b[1;33m.\u001b[0m\u001b[0mshow\u001b[0m\u001b[1;33m(\u001b[0m\u001b[1;33m)\u001b[0m\u001b[1;33m\u001b[0m\u001b[0m\n\u001b[0;32m      5\u001b[0m \u001b[0mfile\u001b[0m\u001b[1;33m.\u001b[0m\u001b[0mclose\u001b[0m\u001b[1;33m(\u001b[0m\u001b[1;33m)\u001b[0m\u001b[1;33m\u001b[0m\u001b[0m\n",
      "\u001b[1;31mNameError\u001b[0m: name 'h5py' is not defined"
     ]
    }
   ],
   "source": [
    "file = h5py.File(\"../../build/copytest.h5\")\n",
    "data = np.array(file[\"/dset0real\"])\n",
    "plt.plot(data)\n",
    "plt.show()\n",
    "file.close()"
   ]
  },
  {
   "cell_type": "code",
   "execution_count": null,
   "metadata": {
    "collapsed": true
   },
   "outputs": [],
   "source": []
  }
 ],
 "metadata": {
  "kernelspec": {
   "display_name": "Python 3",
   "language": "python",
   "name": "python3"
  },
  "language_info": {
   "codemirror_mode": {
    "name": "ipython",
    "version": 3
   },
   "file_extension": ".py",
   "mimetype": "text/x-python",
   "name": "python",
   "nbconvert_exporter": "python",
   "pygments_lexer": "ipython3",
   "version": "3.5.1"
  }
 },
 "nbformat": 4,
 "nbformat_minor": 0
}
