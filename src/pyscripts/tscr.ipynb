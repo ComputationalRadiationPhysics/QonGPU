{
 "cells": [
  {
   "cell_type": "code",
   "execution_count": 24,
   "metadata": {
    "collapsed": false
   },
   "outputs": [],
   "source": [
    "import numpy as np \n",
    "import matplotlib.pyplot as plt\n",
    "import h5py\n",
    "\n",
    "\n",
    "floc = \"../../build/res_0_0_0.h5\"\n",
    "file = h5py.File(floc)\n",
    "\n",
    "hstr = \"host_debug_\"\n",
    "\n",
    "g1 = file[\"/data/0\"]\n",
    "s1 = np.array(g1[hstr+\"reals\"])\n",
    "s2 = np.array(g1[hstr+\"img\"])\n",
    "\n",
    "i = 0\n",
    "dstr = \"chunk_\"\n",
    "g2 = file[\"data/500\"]\n",
    "s3 = np.array(g2[dstr+\"reals\"])\n",
    "s4 = np.array(g2[dstr+\"img\"])\n",
    "plt.plot(s1**2+s2**2)\n",
    "plt.plot(s3**2+s4**2)\n",
    "plt.show()\n",
    "\n",
    "file.close()"
   ]
  },
  {
   "cell_type": "code",
   "execution_count": null,
   "metadata": {
    "collapsed": true
   },
   "outputs": [],
   "source": []
  }
 ],
 "metadata": {
  "kernelspec": {
   "display_name": "Python 3",
   "language": "python",
   "name": "python3"
  },
  "language_info": {
   "codemirror_mode": {
    "name": "ipython",
    "version": 3
   },
   "file_extension": ".py",
   "mimetype": "text/x-python",
   "name": "python",
   "nbconvert_exporter": "python",
   "pygments_lexer": "ipython3",
   "version": "3.5.1"
  }
 },
 "nbformat": 4,
 "nbformat_minor": 0
}
