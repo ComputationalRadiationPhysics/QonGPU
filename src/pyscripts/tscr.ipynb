{
 "cells": [
  {
   "cell_type": "code",
   "execution_count": 13,
   "metadata": {
    "collapsed": false
   },
   "outputs": [],
   "source": [
    "import numpy as np \n",
    "import matplotlib.pyplot as plt\n",
    "import h5py\n",
    "\n",
    "\n",
    "floc = \"../../build/res.h5\"\n",
    "file = h5py.File(floc)\n",
    "\n",
    "i = 1000 \n",
    "dstr =  \"/dset\"+str(i)\n",
    "r = \"real\"\n",
    "im = \"img\"\n",
    "\n",
    "dsetr = np.array(file[dstr+r])\n",
    "dseti = np.array(file[dstr+im])\n",
    "param = np.array(file[\"/params\"])\n",
    "\n",
    "\n",
    "plt.plot(dseti)\n",
    "plt.plot(dsetr)\n",
    "#plt.plot(dsetr**2+dseti**2)\n",
    "\n",
    "i = 0\n",
    "dstr =  \"/dset\"+str(i)\n",
    "#dsetr = np.array(file[dstr+r])\n",
    "#dseti = np.array(file[dstr+im])\n",
    "#plt.plot(dsetr**2+dseti**2)\n",
    "\n",
    "\n",
    "\n",
    "plt.show()\n",
    "\n",
    "\n",
    "\n",
    "\n",
    "file.close()"
   ]
  },
  {
   "cell_type": "code",
   "execution_count": null,
   "metadata": {
    "collapsed": true
   },
   "outputs": [],
   "source": []
  }
 ],
 "metadata": {
  "kernelspec": {
   "display_name": "Python 3",
   "language": "python",
   "name": "python3"
  },
  "language_info": {
   "codemirror_mode": {
    "name": "ipython",
    "version": 3
   },
   "file_extension": ".py",
   "mimetype": "text/x-python",
   "name": "python",
   "nbconvert_exporter": "python",
   "pygments_lexer": "ipython3",
   "version": "3.4.3"
  }
 },
 "nbformat": 4,
 "nbformat_minor": 0
}
