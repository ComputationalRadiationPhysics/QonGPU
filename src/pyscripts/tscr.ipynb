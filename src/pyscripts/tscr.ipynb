{
 "cells": [
  {
   "cell_type": "code",
   "execution_count": 28,
   "metadata": {
    "collapsed": false
   },
   "outputs": [
    {
     "name": "stdout",
     "output_type": "stream",
     "text": [
      "[  1.00000000e+01   0.00000000e+00   8.00000000e+00   0.00000000e+00\n",
      "   8.19200000e+03   1.00000000e+06   1.00000000e+00  -1.15444000e-01]\n"
     ]
    }
   ],
   "source": [
    "import numpy as np \n",
    "\n",
    "import matplotlib.pyplot as plt\n",
    "import matplotlib as mpl\n",
    "import h5py\n",
    "import cmath\n",
    "\n",
    "mpl.rcParams[\"mathtext.fontset\"] = \"stix\"\n",
    "\n",
    "floc = \"../../build/res_short.h5\"\n",
    "file = h5py.File(floc)\n",
    "\n",
    "i = int(1.5*1e4)\n",
    "dstr =  \"/dset\"+str(i)\n",
    "r = \"real\"\n",
    "im = \"img\"\n",
    "\n",
    "dsetr = np.array(file[dstr+r])\n",
    "dseti = np.array(file[dstr+im])\n",
    "param = np.array(file[\"/params\"])\n",
    "\n",
    "x = np.linspace(param[1],param[0],param[4])\n",
    "\n",
    "\n",
    "\n",
    "plt.plot(x, dsetr, label = \"$\\mathfrak{Re}\\{ \\psi_n \\} \\ numerical $\")\n",
    "plt.plot(x, dseti, label = \"$\\mathfrak{Im}\\{ \\psi_n \\} \\ numerical $\")\n",
    "#plt.plot(dsetr**2+dseti**2)\n",
    "i = 0\n",
    "dstr =  \"/dset\"+str(i)\n",
    "dsetr2 = np.array(file[dstr+r])\n",
    "dseti2 = np.array(file[dstr+im])\n",
    "E = param[-1]\n",
    "dt = (param[2] - param[3])/param[5]\n",
    "psi = dsetr2 + 1j * dseti2\n",
    "\n",
    "i =  int(1.5*1e4)\n",
    "\n",
    "\n",
    "U = np.exp(-1j * E * i * dt)\n",
    "\n",
    "psi = psi*U\n",
    "print(param)\n",
    "\n",
    "#plt.plot(x, psi.imag-dseti, label = \"$\\mathfrak{Im}\\{ \\psi_{n,analytic}- \\psi_{n,numerical} \\}$\")\n",
    "plt.plot(x,psi.real, label = \"$\\mathfrak{Re}\\{\\psi_{n}\\} \\ analytical$\")\n",
    "plt.plot(x, psi.imag, label = \"$\\mathfrak{Im}\\{ \\psi_n \\} \\ analytical $\")\n",
    "plt.xlabel(\"$x \\ (a_0)$\", size = 30)\n",
    "plt.ylabel(\"$\\psi_n(x)$\", size = 30)\n",
    "plt.title(\"Analytical and numerical calculation at $t_j = t_{\"+str(i)+\"}$ with $ \\Delta t =\"+str(dt)+\"$\",\n",
    "          size = 25, y = 1.05)\n",
    "plt.legend(loc=4,prop={'size':20})\n",
    "plt.show()\n",
    "\n",
    "\n",
    "\n",
    "\n",
    "file.close()"
   ]
  },
  {
   "cell_type": "code",
   "execution_count": null,
   "metadata": {
    "collapsed": false
   },
   "outputs": [],
   "source": []
  },
  {
   "cell_type": "code",
   "execution_count": null,
   "metadata": {
    "collapsed": true
   },
   "outputs": [],
   "source": []
  }
 ],
 "metadata": {
  "kernelspec": {
   "display_name": "Python 3",
   "language": "python",
   "name": "python3"
  },
  "language_info": {
   "codemirror_mode": {
    "name": "ipython",
    "version": 3
   },
   "file_extension": ".py",
   "mimetype": "text/x-python",
   "name": "python",
   "nbconvert_exporter": "python",
   "pygments_lexer": "ipython3",
   "version": "3.4.3"
  }
 },
 "nbformat": 4,
 "nbformat_minor": 0
}
