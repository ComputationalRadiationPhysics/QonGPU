{
 "cells": [
  {
   "cell_type": "code",
   "execution_count": 1,
   "metadata": {
    "collapsed": false
   },
   "outputs": [
    {
     "name": "stdout",
     "output_type": "stream",
     "text": [
      "Values generated!\n"
     ]
    }
   ],
   "source": [
    "import numpy as np\n",
    "import matplotlib.pyplot as plt\n",
    "import scipy.fftpack as sf\n",
    "\n",
    "pot = lambda x: -1/np.sqrt(x**2+1)\n",
    "a = 6.9314718055994524e-7\n",
    "b = 0.0069314718056\n",
    "w = 2*np.pi*0.08607963870836033\n",
    "k = w/137\n",
    "A = 1.2\n",
    "t0 = 2500\n",
    "dist = lambda x,t: np.sin(w*t)*np.exp(-a*(t)**2)-1/(x**2+1)\n",
    "n = 10000\n",
    "t, dt = np.linspace(0,5000, n, retstep=True)\n",
    "x = 2\n",
    "toplot = dist(x,t)\n",
    "print(\"Values generated!\")\n",
    "fig = plt.figure(figsize=(14,10))\n",
    "trans = np.fft.fft(toplot)\n",
    "freq = np.fft.fftfreq(len(t), (t[1] - t[0]))\n",
    "dw = 2*np.pi/dt\n",
    "w1 = np.linspace(0, n*dw, n)\n",
    "plt.plot(freq, trans.imag , \".\", label=r\"$Im\\{ \\mathcal{FT} \\}$\", color=\"red\")\n",
    "plt.plot(freq, trans.real ,\".\", label=r\"$Re\\{\\mathcal{FT}\\}$\")\n",
    "#plt.plot(freq, np.abs(trans), \".\")\n",
    "plt.grid()\n",
    "plt.ylabel(r\"$\\mathcal{FT} \\; [W_1(t)] (arb. Units)$\", size=30)\n",
    "plt.xlabel(r\"$\\omega \\; (a.u.)^{-1}$\", size=30)\n",
    "plt.legend()\n",
    "plt.show()\n"
   ]
  },
  {
   "cell_type": "code",
   "execution_count": null,
   "metadata": {
    "collapsed": false
   },
   "outputs": [],
   "source": [
    "x,dx = np.linspace(-30, 30, 3000, retstep=True)\n",
    "\n",
    "def F(x,t):\n",
    "    \n",
    "    s1 = -x/(x**2+1)**(3/2)\n",
    "    s2 = np.exp(-t**2)*np.exp(-x**2) * (-2*x*np.sin(-x)-np.cos(-x))\n",
    "    return s1+s2\n",
    "\n",
    "\n",
    "\n",
    "toplot = F(x)\n",
    "plt.plot(x,F(x))\n",
    "plt.show()"
   ]
  },
  {
   "cell_type": "code",
   "execution_count": null,
   "metadata": {
    "collapsed": false
   },
   "outputs": [],
   "source": [
    "x,dx = np.linspace(-30, 30, 3000, retstep=True)\n",
    "\n",
    "t = np.ones(len(x))*1440\n",
    "def Pot(x,t):\n",
    "    s1 =  -1/np.sqrt(x**2+1)\n",
    "    s2 = 1.2*np.exp(-b*x**2)*np.exp(-a*(t-t0)**2)*np.sin(w*t-k*x)\n",
    "    return s1+s2\n",
    "toplot = Pot(x,1480)\n",
    "plt.plot(x, toplot)\n",
    "plt.show()"
   ]
  },
  {
   "cell_type": "code",
   "execution_count": null,
   "metadata": {
    "collapsed": true
   },
   "outputs": [],
   "source": []
  },
  {
   "cell_type": "code",
   "execution_count": null,
   "metadata": {
    "collapsed": true
   },
   "outputs": [],
   "source": []
  }
 ],
 "metadata": {
  "kernelspec": {
   "display_name": "Python 3",
   "language": "python",
   "name": "python3"
  },
  "language_info": {
   "codemirror_mode": {
    "name": "ipython",
    "version": 3
   },
   "file_extension": ".py",
   "mimetype": "text/x-python",
   "name": "python",
   "nbconvert_exporter": "python",
   "pygments_lexer": "ipython3",
   "version": "3.5.2"
  }
 },
 "nbformat": 4,
 "nbformat_minor": 0
}
