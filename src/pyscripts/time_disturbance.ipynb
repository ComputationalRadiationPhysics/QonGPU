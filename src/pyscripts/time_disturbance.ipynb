{
 "cells": [
  {
   "cell_type": "code",
   "execution_count": null,
   "metadata": {
    "collapsed": false
   },
   "outputs": [
    {
     "name": "stderr",
     "output_type": "stream",
     "text": [
      "/usr/lib/python3.5/site-packages/matplotlib/backend_bases.py:2437: MatplotlibDeprecationWarning: Using default event loop until function specific to this GUI is implemented\n",
      "  warnings.warn(str, mplDeprecation)\n"
     ]
    }
   ],
   "source": [
    "import numpy as np\n",
    "import matplotlib.pyplot as plt\n",
    "\n",
    "th = 500\n",
    "t0 = 1500 \n",
    "\n",
    "\n",
    "xh = 15\n",
    "\n",
    "a = np.log(2)/(th - t0)**2\n",
    "b = np.log(2)/(xh)**2\n",
    "\n",
    "g_t = lambda t: np.exp(-a*(t-t0)**2)\n",
    "g_s = lambda x: np.exp(-b*(x)**2)\n",
    "\n",
    "k = 2*np.pi/(60)\n",
    "w = k*137\n",
    "\n",
    "sint = lambda x,t: np.sin(w*t-k*x)\n",
    "\n",
    "x = np.linspace(-30, 30, 1e5)\n",
    "\n",
    "t = 0\n",
    "dt = 0.001\n",
    "\n",
    "tval = sint(x,t)**2*g_s(x)*g_t(t)\n",
    "\n",
    "\n",
    "x_p = plt.plot(x,tval)\n",
    "\n",
    "\n",
    "plt.ylim([-0.5, 1])\n",
    "plt.xlabel(r\"$x \\ (a.u.)$\",size=20)\n",
    "plt.ylabel(r\"$V(x,t) \\ (a.u.)$\",size=20)\n",
    "for i in range(0, 500):\n",
    "    \n",
    "    t += dt\n",
    "    tval = sint(x,t)**2*g_s(x)*g_t(t)\n",
    "    plt.title(\"Time t = \" +str(t)+\"$(a.u.)$\")\n",
    "    plt.setp(x_p[0], ydata=tval)\n",
    "    plt.pause(0.01)\n",
    "    plt.draw()\n",
    "\n",
    "\n",
    "plt.show()"
   ]
  },
  {
   "cell_type": "code",
   "execution_count": null,
   "metadata": {
    "collapsed": true
   },
   "outputs": [],
   "source": []
  }
 ],
 "metadata": {
  "kernelspec": {
   "display_name": "Python 3",
   "language": "python",
   "name": "python3"
  },
  "language_info": {
   "codemirror_mode": {
    "name": "ipython",
    "version": 3
   },
   "file_extension": ".py",
   "mimetype": "text/x-python",
   "name": "python",
   "nbconvert_exporter": "python",
   "pygments_lexer": "ipython3",
   "version": "3.4.3"
  }
 },
 "nbformat": 4,
 "nbformat_minor": 0
}
