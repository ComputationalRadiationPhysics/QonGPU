{
 "cells": [
  {
   "cell_type": "code",
   "execution_count": 18,
   "metadata": {
    "collapsed": false
   },
   "outputs": [],
   "source": [
    "import numpy as np\n",
    "import matplotlib.pyplot as plt\n",
    "import matplotlib as mpl\n",
    "mpl.rcParams[\"mathtext.fontset\"] = \"stix\"\n",
    "from matplotlib import rc\n",
    "rc('font',**{'family':'sans-serif','sans-serif':['Helvetica']})\n",
    "## for Palatino and other serif fonts use:\n",
    "#rc('font',**{'family':'serif','serif':['Palatino']})\n",
    "rc('text', usetex=True)\n",
    "\n",
    "\n",
    "plt.rc('font', family='serif')\n",
    "plt.rc('xtick', labelsize=30)\n",
    "plt.rc('ytick', labelsize=30)\n",
    "\n",
    "\n",
    "\n",
    "x = np.linspace(0.5, 20, 1000)\n",
    "\n",
    "cou = -1/x\n",
    "x = np.linspace(0, 20,1000)\n",
    "mod = -1/np.sqrt(x**2+1)\n",
    "\n",
    "plt.plot(x, cou,\"--\", color=\"red\",label=r\"Coulomb potential $-\\frac{1}{r}$\",linewidth=3)\n",
    "plt.plot(x, mod, label=r\"Model potential $-\\frac{1}{ \\sqrt{r^2+1}}$\",linewidth=3)\n",
    "plt.xlabel(\"$r \\ (a. u.)$\",size=30)\n",
    "plt.ylabel(\"$V(x)  (a.u.)$\",size=30)\n",
    "plt.legend(loc=4,prop={'size':30},frameon=False)\n",
    "plt.show()"
   ]
  },
  {
   "cell_type": "code",
   "execution_count": null,
   "metadata": {
    "collapsed": true
   },
   "outputs": [],
   "source": []
  },
  {
   "cell_type": "code",
   "execution_count": null,
   "metadata": {
    "collapsed": true
   },
   "outputs": [],
   "source": []
  }
 ],
 "metadata": {
  "kernelspec": {
   "display_name": "Python 3",
   "language": "python",
   "name": "python3"
  },
  "language_info": {
   "codemirror_mode": {
    "name": "ipython",
    "version": 3
   },
   "file_extension": ".py",
   "mimetype": "text/x-python",
   "name": "python",
   "nbconvert_exporter": "python",
   "pygments_lexer": "ipython3",
   "version": "3.5.2"
  }
 },
 "nbformat": 4,
 "nbformat_minor": 0
}
