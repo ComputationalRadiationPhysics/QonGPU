{
 "cells": [
  {
   "cell_type": "code",
   "execution_count": 46,
   "metadata": {
    "collapsed": false
   },
   "outputs": [],
   "source": [
    "import numpy as np\n",
    "import matplotlib.pyplot as plt\n",
    "import matplotlib as mpl\n",
    "mpl.rcParams[\"mathtext.fontset\"] = \"stix\"\n",
    "x = np.linspace(0.5, 20, 1000)\n",
    "\n",
    "cou = -1/x\n",
    "x = np.linspace(0, 20,1000)\n",
    "mod = -1/np.sqrt(x**2+1)\n",
    "\n",
    "plt.plot(x, cou,\"--\", color=\"red\",label=\"Coulomb potential $-1/r$\")\n",
    "plt.plot(x, mod, label=\"Model potential $-1/ \\sqrt{r^2+1}$\")\n",
    "plt.xlabel(\"$r \\ (a. u.)$\",size=20)\n",
    "plt.ylabel(\"$V(x)  (a.u.)$\",size=20)\n",
    "plt.legend(loc=\"best\")\n",
    "plt.show()"
   ]
  },
  {
   "cell_type": "code",
   "execution_count": null,
   "metadata": {
    "collapsed": true
   },
   "outputs": [],
   "source": []
  },
  {
   "cell_type": "code",
   "execution_count": null,
   "metadata": {
    "collapsed": true
   },
   "outputs": [],
   "source": []
  }
 ],
 "metadata": {
  "kernelspec": {
   "display_name": "Python 3",
   "language": "python",
   "name": "python3"
  },
  "language_info": {
   "codemirror_mode": {
    "name": "ipython",
    "version": 3
   },
   "file_extension": ".py",
   "mimetype": "text/x-python",
   "name": "python",
   "nbconvert_exporter": "python",
   "pygments_lexer": "ipython3",
   "version": "3.5.1"
  }
 },
 "nbformat": 4,
 "nbformat_minor": 0
}
