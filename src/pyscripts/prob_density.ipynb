{
 "cells": [
  {
   "cell_type": "code",
   "execution_count": 11,
   "metadata": {
    "collapsed": false
   },
   "outputs": [
    {
     "name": "stdout",
     "output_type": "stream",
     "text": [
      "2500.0\n"
     ]
    }
   ],
   "source": [
    "import matplotlib.pyplot as plt\n",
    "import h5py\n",
    "import numpy as np\n",
    "\n",
    "\n",
    "f_loc = \"../../build/res.h5\"\n",
    "file = h5py.File(f_loc)\n",
    "\n",
    "# First use the middle dataset\n",
    "i = 60000\n",
    "dstr_i = \"/dset\"+str(i)+\"img\"\n",
    "dstr_r = \"/dset\"+str(i)+\"real\"\n",
    "try:\n",
    "    dset_r = np.array(file[dstr_r])\n",
    "    dset_i = np.array(file[dstr_i])\n",
    "except KeyError:\n",
    "    print(\"Error\")\n",
    "    file.close()\n",
    "\n",
    "\n",
    "psi1 = dset_r + 1j * dset_i\n",
    "\n",
    "# Then use the  beginning dataset\n",
    "i = 0\n",
    "dstr_i = \"/dset\"+str(i)+\"img\"\n",
    "dstr_r = \"/dset\"+str(i)+\"real\"\n",
    "try:\n",
    "    dset_r = np.array(file[dstr_r])\n",
    "    dset_i = np.array(file[dstr_i])\n",
    "except KeyError:\n",
    "    file.close()\n",
    "\n",
    "psi2 = dset_r + 1j * dset_i\n",
    "\n",
    "\n",
    "\n",
    "# close results\n",
    "file.close()\n",
    "\n",
    "\n",
    "# develop psi2 in time\n",
    "E  = -0.274891\n",
    "t = 50000 * 0.05\n",
    "print(t)\n",
    "x = np.linspace(-30, 30, psi1.size)\n",
    "plt.plot(x, np.abs(psi1)**2-E, label=r\"$|\\psi_2|^2$ disturbed\")\n",
    "plt.plot(x,np.abs(psi2)**2-E, label=r\"$|\\psi_2|^2$ undisturbed\" )\n",
    "plt.legend(loc=\"best\", frameon = False, fontsize=25)\n",
    "plt.show()\n"
   ]
  },
  {
   "cell_type": "code",
   "execution_count": null,
   "metadata": {
    "collapsed": true
   },
   "outputs": [],
   "source": []
  }
 ],
 "metadata": {
  "kernelspec": {
   "display_name": "Python 3",
   "language": "python",
   "name": "python3"
  },
  "language_info": {
   "codemirror_mode": {
    "name": "ipython",
    "version": 3
   },
   "file_extension": ".py",
   "mimetype": "text/x-python",
   "name": "python",
   "nbconvert_exporter": "python",
   "pygments_lexer": "ipython3",
   "version": "3.4.3"
  }
 },
 "nbformat": 4,
 "nbformat_minor": 0
}
