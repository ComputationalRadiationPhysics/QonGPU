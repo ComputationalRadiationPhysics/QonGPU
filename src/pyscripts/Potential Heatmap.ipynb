{
 "cells": [
  {
   "cell_type": "code",
   "execution_count": 1,
   "metadata": {
    "collapsed": false,
    "scrolled": true
   },
   "outputs": [
    {
     "name": "stdout",
     "output_type": "stream",
     "text": [
      "Values generated!\n",
      "Imshow Done!\n",
      "Colorbar Done!\n"
     ]
    }
   ],
   "source": [
    "import numpy as np\n",
    "import matplotlib.pyplot as plt\n",
    "\n",
    "\n",
    "\n",
    "pot = lambda x: -1/np.sqrt(x**2+1)\n",
    "a = 6.9314718055994524e-7\n",
    "b = 0.0069314718056\n",
    "w = 0.08607963870836033\n",
    "k = w/137\n",
    "A = 1.2\n",
    "t0 = 2500\n",
    "dist = lambda x,t:  np.exp(-a*(t-t0)**2)*np.exp(-b*x**2)*A*np.sin(w*t-k*x)\n",
    "n = 10000\n",
    "x = np.linspace(-30,30, n)\n",
    "t = np.linspace(1400,1500, n)\n",
    "\n",
    "toplot = np.zeros((n, n))\n",
    "for i in range(0, n):\n",
    "    toplot[:,i] = dist(x,t[i]) + pot(x)\n",
    "print(\"Values generated!\")\n",
    "plt.imshow(toplot,cmap=\"viridis_r\",extent=[t[0],t[-1],x[0],x[-1]],aspect='auto',interpolation='nearest')\n",
    "print(\"Imshow Done!\")\n",
    "c = plt.colorbar()\n",
    "c.set_label(r\"$V_{Eff} \\; (a.u.)$\",size=40)\n",
    "print(\"Colorbar Done!\")\n",
    "\n",
    "plt.xlabel(r\"$t  \\ (a.u.)$\",size=35)\n",
    "plt.ylabel(r\"$x \\ (a.u.)$\",size=35)\n",
    "plt.xticks(fontsize=30)\n",
    "plt.yticks(fontsize=30)\n",
    "plt.show()"
   ]
  },
  {
   "cell_type": "code",
   "execution_count": null,
   "metadata": {
    "collapsed": true
   },
   "outputs": [],
   "source": []
  }
 ],
 "metadata": {
  "kernelspec": {
   "display_name": "Python 3",
   "language": "python",
   "name": "python3"
  },
  "language_info": {
   "codemirror_mode": {
    "name": "ipython",
    "version": 3
   },
   "file_extension": ".py",
   "mimetype": "text/x-python",
   "name": "python",
   "nbconvert_exporter": "python",
   "pygments_lexer": "ipython3",
   "version": "3.5.2"
  }
 },
 "nbformat": 4,
 "nbformat_minor": 0
}
