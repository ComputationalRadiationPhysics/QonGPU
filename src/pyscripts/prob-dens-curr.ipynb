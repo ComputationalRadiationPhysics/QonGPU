{
 "cells": [
  {
   "cell_type": "code",
   "execution_count": 93,
   "metadata": {
    "collapsed": true
   },
   "outputs": [],
   "source": [
    "import numpy as np\n",
    "import matplotlib.pyplot as plt\n",
    "import h5py\n",
    "import time\n",
    "import progressbar\n",
    "import sys\n",
    "\n",
    "def load_timestep(filepath,nt,t0=0,):\n",
    "    \"\"\"\n",
    "    Load a timestep from a result file\n",
    "    and returns it as a complex numpy array.\n",
    "    \n",
    "    \"\"\"\n",
    "    file = h5py.File(filepath)\n",
    "    rl = \"/dset\"+str(nt)+\"real\"\n",
    "    im = \"/dset\"+str(nt)+\"img\"\n",
    "    if (rl in file) and (im in file):\n",
    "        imag = np.array(file[rl])\n",
    "        real = np.array(file[im])\n",
    "        res = real + 1j * imag\n",
    "        file.close()\n",
    "        return res\n",
    "    else:\n",
    "        print(\"Error timestep \"+str(nt)+\" not found!\")\n",
    "        file.close()\n",
    "        sys.exit(\"Data does not exist or is corrupted\")\n",
    "        return -1\n",
    "\n",
    "\n",
    "def load_vals(filepath, nt, nx, nstep):\n",
    "    \"\"\"\n",
    "    Loads the whole time dependent wave-function in memory.\n",
    "    \"\"\"\n",
    "    psi_t = np.zeros([nt/nstep,nx], dtype=complex)\n",
    "    print(\"Loading file\")\n",
    "    with progressbar.ProgressBar(max_value=int(nt)) as bar:\n",
    "        for i  in range(0, nt, nstep):\n",
    "            psi_t[i/nstep] = load_timestep(filepath, i)\n",
    "            bar.update(i)\n",
    "    return psi_t\n",
    "\n",
    "\n",
    "def get_imag_grad(psi, h):\n",
    "    \"\"\"\n",
    "    Numerically differentiates the complex conjugated\n",
    "    wave-function psi with the spatial step h. The parameter\n",
    "    interval should be a tuple of indexes, from when to where to\n",
    "    differentiate from.  \n",
    "    \"\"\"\n",
    "    print(\"Calculating conjugate\")\n",
    "    psi_conj = np.zeros(psi.shape, dtype=complex)\n",
    "    with progressbar.ProgressBar(max_value=int(psi.shape[0])) as bar:\n",
    "        for i in range(0, psi.shape[0]):\n",
    "            psi_conj[i] = np.conjugate(psi[i,:])\n",
    "            bar.update(i)\n",
    "    print(\"Calculating gradient...\")\n",
    "    psi_diff = np.gradient(psi_conj, h, axis=1)\n",
    "    print(\"Finished gradient!\")\n",
    "    return psi_diff\n",
    "\n",
    "def get_prob_current(psi, psi_diff):\n",
    "    \"\"\"\n",
    "    Calculates the probability current Im{psi d/dx psi^*}. \n",
    "    \"\"\"\n",
    "    print(\"Calculating probability current\")\n",
    "    curr = psi*psi_diff\n",
    "    return -curr.imag\n",
    "\n",
    "\n",
    "def integrate_prob_current(psi, n0, n1, h):\n",
    "    \"\"\"\n",
    "    Numerically integrate the probability current, which is\n",
    "    Im{psi d/dx psi^*} over the given spatial interval. \n",
    "    \"\"\"\n",
    "    psi_diff = get_imag_grad(psi, h)\n",
    "    curr = get_prob_current(psi, psi_diff)\n",
    "    \n",
    "    res = np.zeros(psi.shape[0])\n",
    "    with progressbar.ProgressBar(max_value=int(psi.shape[0])) as bar:\n",
    "        for i in range(0, psi.shape[0]):\n",
    "            res [i] = np.trapz(curr[i,n0:n1], dx=h)\n",
    "            bar.update(i)\n",
    "    print(\"Finished calculating the integrated prob. current!\")\n",
    "    return res\n"
   ]
  },
  {
   "cell_type": "code",
   "execution_count": 109,
   "metadata": {
    "collapsed": true
   },
   "outputs": [],
   "source": [
    "def calc_dist(x, t):\n",
    "    \"\"\"\n",
    "    Calculate the disturbance term \n",
    "    \"\"\"\n",
    "    a = 6.9314718055994524e-07\n",
    "    b = 0.0069314718056\n",
    "    t0 = 2500.0\n",
    "    w = 0.011465666618940851\n",
    "    k = w/137\n",
    "    I = 2.5\n",
    "    res = np.zeros([t.size,x.size])\n",
    "    for i in range(0, t.size):\n",
    "        if t[i] < 2500:\n",
    "            g = np.exp(-a*(t[i]-t0)**2)\n",
    "        else:\n",
    "            g = 1.0\n",
    "        res[i] = I * np.sin(w*t[i]-k*x)*g\n",
    "    return res\n",
    "\n",
    "def int_dist(vals, h):\n",
    "    \"\"\"\n",
    "    \"\"\"\n",
    "    res = np.zeros(vals.shape[0])\n",
    "    for i in range(0, vals.shape[0]):\n",
    "        res[i] = np.trapz(vals[i],dx=h)\n",
    "    return res"
   ]
  },
  {
   "cell_type": "code",
   "execution_count": 110,
   "metadata": {
    "collapsed": false
   },
   "outputs": [
    {
     "name": "stderr",
     "output_type": "stream",
     "text": [
      "/home/boehme03/.local/lib/python3.4/site-packages/ipykernel/__main__.py:34: VisibleDeprecationWarning: using a non-integer number instead of an integer will result in an error in the future\n",
      "  0% (     0 of 100000) |                                                      | Elapsed Time: 0:00:00 ETA:  --:--:--/home/boehme03/.local/lib/python3.4/site-packages/ipykernel/__main__.py:38: VisibleDeprecationWarning: using a non-integer number instead of an integer will result in an error in the future\n",
      "  0% (   300 of 100000) |                                                        | Elapsed Time: 0:00:00 ETA: 0:00:58"
     ]
    },
    {
     "name": "stdout",
     "output_type": "stream",
     "text": [
      "Loading file\n"
     ]
    },
    {
     "name": "stderr",
     "output_type": "stream",
     "text": [
      "100% (100000 of 100000) |#######################################################| Elapsed Time: 0:00:19 Time: 0:00:19\n",
      " 12% ( 129 of 1000) |#######                                                     | Elapsed Time: 0:00:00 ETA: 0:00:01"
     ]
    },
    {
     "name": "stdout",
     "output_type": "stream",
     "text": [
      "(1000, 100000)\n",
      "Calculating conjugate\n"
     ]
    },
    {
     "name": "stderr",
     "output_type": "stream",
     "text": [
      "100% (1000 of 1000) |###########################################################| Elapsed Time: 0:00:01 Time: 0:00:01\n"
     ]
    },
    {
     "name": "stdout",
     "output_type": "stream",
     "text": [
      "Calculating gradient...\n",
      "Finished gradient!\n",
      "Calculating probability current\n"
     ]
    },
    {
     "name": "stderr",
     "output_type": "stream",
     "text": [
      "100% (1000 of 1000) |###########################################################| Elapsed Time: 0:00:00 Time: 0:00:00\n"
     ]
    },
    {
     "name": "stdout",
     "output_type": "stream",
     "text": [
      "Finished calculating the integrated prob. current!\n"
     ]
    }
   ],
   "source": [
    "\n",
    "filepath = \"../../build/res.h5\"\n",
    "nx = np.int32(1e5)\n",
    "nt = np.int32(1e5)\n",
    "nstep = 100\n",
    "h = 0.0006 \n",
    "psi = load_vals(filepath, nt, nx, nstep)\n",
    "print(psi.shape)\n",
    "res = integrate_prob_current(psi, 50000, 66667, 0.0006)\n",
    "t = np.linspace(0,5000, 1000)\n",
    "x = np.linspace(0, 66667*0.0006-30.0, 5000)\n",
    "res_2 = calc_dist(x,t)\n",
    "res_2 = int_dist(res_2,h)\n",
    "res_2 *= 1/np.max(res_2)\n",
    "res *= 1/np.max(res)"
   ]
  },
  {
   "cell_type": "code",
   "execution_count": 111,
   "metadata": {
    "collapsed": false
   },
   "outputs": [],
   "source": [
    "fig = plt.figure(figsize=(10,8))\n",
    "plt.plot(t, res_2, color=\"red\",label=r\"$\\int \\, dx \\, V_1(x,t)$\")\n",
    "plt.plot(t, res, color=\"blue\", label=r\"$\\int \\, dx \\, j(x)$\")\n",
    "plt.xlabel(r\"$t \\; (a.u)$\", size=20)\n",
    "plt.ylabel(r\"Integrated quantities\", size=20)\n",
    "plt.title(\"Integrated \")\n",
    "plt.legend(loc='best')\n",
    "plt.show()"
   ]
  },
  {
   "cell_type": "code",
   "execution_count": 30,
   "metadata": {
    "collapsed": false
   },
   "outputs": [
    {
     "data": {
      "text/plain": [
       "66666.66666666667"
      ]
     },
     "execution_count": 30,
     "metadata": {},
     "output_type": "execute_result"
    }
   ],
   "source": [
    "50000*h-30.0\n",
    "70000*h-30\n",
    "\n",
    "10/h+30.0/h\n"
   ]
  },
  {
   "cell_type": "code",
   "execution_count": null,
   "metadata": {
    "collapsed": true
   },
   "outputs": [],
   "source": []
  }
 ],
 "metadata": {
  "kernelspec": {
   "display_name": "Python 3",
   "language": "python",
   "name": "python3"
  },
  "language_info": {
   "codemirror_mode": {
    "name": "ipython",
    "version": 3
   },
   "file_extension": ".py",
   "mimetype": "text/x-python",
   "name": "python",
   "nbconvert_exporter": "python",
   "pygments_lexer": "ipython3",
   "version": "3.4.3"
  }
 },
 "nbformat": 4,
 "nbformat_minor": 0
}
