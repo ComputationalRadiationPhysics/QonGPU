{
 "cells": [
  {
   "cell_type": "code",
   "execution_count": 1,
   "metadata": {
    "collapsed": true,
    "deletable": true,
    "editable": true
   },
   "outputs": [],
   "source": []
  },
  {
   "cell_type": "code",
   "execution_count": 2,
   "metadata": {
    "collapsed": true,
    "deletable": true,
    "editable": true
   },
   "outputs": [],
   "source": [
    "def calc_dist(x, t):\n",
    "    \"\"\"\n",
    "    Calculate the disturbance term \n",
    "    \"\"\"\n",
    "    a = 6.9314718055994524e-07\n",
    "    b = 0.0069314718056\n",
    "    t0 = 50.0\n",
    "    w = 1.51939\n",
    "    k = w/137\n",
    "    I = 20.0\n",
    "    res = np.zeros([t.size,x.size])\n",
    "    for i in range(0, t.size):\n",
    "        if t[i] < 50:\n",
    "            g = t[i]/t0\n",
    "        else:\n",
    "            g = 1.0\n",
    "        res[i] = I * np.sin(w*t[i]-k*x)*g\n",
    "    return res\n",
    "\n",
    "def int_dist(vals, h):\n",
    "    \"\"\"\n",
    "    \"\"\"\n",
    "    res = np.zeros(vals.shape[0])\n",
    "    for i in range(0, vals.shape[0]):\n",
    "        res[i] = np.trapz(vals[i],dx=h)\n",
    "    return res"
   ]
  },
  {
   "cell_type": "code",
   "execution_count": 3,
   "metadata": {
    "collapsed": false,
    "deletable": true,
    "editable": true
   },
   "outputs": [
    {
     "name": "stderr",
     "output_type": "stream",
     "text": [
      "  0% (   900 of 100000) |                                                        | Elapsed Time: 0:00:00 ETA: 0:00:13"
     ]
    },
    {
     "name": "stdout",
     "output_type": "stream",
     "text": [
      "Loading file\n"
     ]
    },
    {
     "name": "stderr",
     "output_type": "stream",
     "text": [
      "100% (100000 of 100000) |#######################################################| Elapsed Time: 0:00:09 Time: 0:00:09\n",
      "  6% (  60 of 1000) |###                                                         | Elapsed Time: 0:00:00 ETA: 0:00:01"
     ]
    },
    {
     "name": "stdout",
     "output_type": "stream",
     "text": [
      "Calculating conjugate\n"
     ]
    },
    {
     "name": "stderr",
     "output_type": "stream",
     "text": [
      "100% (1000 of 1000) |###########################################################| Elapsed Time: 0:00:02 Time: 0:00:02\n"
     ]
    },
    {
     "name": "stdout",
     "output_type": "stream",
     "text": [
      "Calculating gradient...\n",
      "Finished gradient!\n",
      "Calculating probability current\n"
     ]
    },
    {
     "name": "stderr",
     "output_type": "stream",
     "text": [
      "100% (1000 of 1000) |###########################################################| Elapsed Time: 0:00:00 Time: 0:00:00\n"
     ]
    },
    {
     "name": "stdout",
     "output_type": "stream",
     "text": [
      "Finished calculating the integrated prob. current!\n"
     ]
    }
   ],
   "source": [
    "import Qutils\n",
    "filepath = \"../../build/res.h5\"\n",
    "nx = np.int32(1e5)\n",
    "nt = np.int32(1e5)\n",
    "nstep = 100\n",
    "h = 0.0006 \n",
    "psi = load_vals(filepath, nt, nx, nstep)\n",
    "res = integrate_prob_current(psi, 50000, 66667, 0.0006)\n",
    "#res = integrate_prob(psi, 50000, 66667, 0.0006)\n",
    "t = np.linspace(0,100, 1000)\n",
    "x = np.linspace(0, 66667*0.0006-30.0, 5000)\n",
    "res_2 = calc_dist(x,t)\n",
    "res_2 = int_dist(res_2,h)\n",
    "res_2 *= 1/np.max(res_2)\n",
    "res *= 1/np.max(res)"
   ]
  },
  {
   "cell_type": "code",
   "execution_count": 13,
   "metadata": {
    "collapsed": false,
    "deletable": true,
    "editable": true
   },
   "outputs": [],
   "source": [
    "fig = plt.figure(figsize=(14,10))\n",
    "plt.plot(t, res_2, color=\"red\",label=r\"$\\int \\, dx \\, V_1(x,t)$\")\n",
    "plt.xlabel(r\"$t \\; (a.u)$\", size=20)\n",
    "plt.ylabel(r\"Integrated quantities\", size=20)\n",
    "\n",
    "plt.plot(t, -res, color=\"blue\", label=r\"$-\\int \\, dx \\, j(x)$\")\n",
    "plt.title(\"Integrated \")\n",
    "plt.legend(loc='best')\n",
    "plt.show()"
   ]
  },
  {
   "cell_type": "code",
   "execution_count": null,
   "metadata": {
    "collapsed": false,
    "deletable": true,
    "editable": true
   },
   "outputs": [],
   "source": []
  }
 ],
 "metadata": {
  "kernelspec": {
   "display_name": "Python 3",
   "language": "python",
   "name": "python3"
  },
  "language_info": {
   "codemirror_mode": {
    "name": "ipython",
    "version": 3
   },
   "file_extension": ".py",
   "mimetype": "text/x-python",
   "name": "python",
   "nbconvert_exporter": "python",
   "pygments_lexer": "ipython3",
   "version": "3.4.3"
  }
 },
 "nbformat": 4,
 "nbformat_minor": 0
}
