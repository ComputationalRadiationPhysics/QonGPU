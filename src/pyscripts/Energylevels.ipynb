{
 "cells": [
  {
   "cell_type": "code",
   "execution_count": 2,
   "metadata": {
    "collapsed": true
   },
   "outputs": [],
   "source": [
    "import sys\n",
    "import h5py\n",
    "import numpy as np\n",
    "from mpl_toolkits.mplot3d import Axes3D\n",
    "from matplotlib import pyplot as plt\n",
    "import gc"
   ]
  },
  {
   "cell_type": "code",
   "execution_count": 3,
   "metadata": {
    "collapsed": true
   },
   "outputs": [],
   "source": [
    "def normalize(a,xmax,nx):\n",
    "    c=0\n",
    "    dx=xmax/float(nx)\n",
    "    \n",
    "    for i in range(0,int(xmax),nx):\n",
    "        c=c+a[i]**2*dx\n",
    "    print(c)\n",
    "    return a/np.sqrt(c)\n",
    "    "
   ]
  },
  {
   "cell_type": "code",
   "execution_count": 27,
   "metadata": {
    "collapsed": false
   },
   "outputs": [
    {
     "name": "stdout",
     "output_type": "stream",
     "text": [
      "(800000,)\n",
      "(99999,)\n",
      "(99999,)\n"
     ]
    },
    {
     "data": {
      "text/plain": [
       "11256"
      ]
     },
     "execution_count": 27,
     "metadata": {},
     "output_type": "execute_result"
    }
   ],
   "source": [
    "#/usr/bin/python\n",
    "# -*- coding: utf-8 -*-\n",
    "f = h5py.File(\"../../build/sim1.h5\")\n",
    "dset1 = f.get(\"/numres\")\n",
    "dset2 = f.get(\"/params\")\n",
    "dset3=f.get(\"/levels\")\n",
    "p = np.array(dset2)\n",
    "a = np.array(dset1)\n",
    "print(a.shape)\n",
    "ind=np.array(dset3)\n",
    "f.close()\n",
    "dset1=0;\n",
    "dset2=0;\n",
    "dset3=0\n",
    "nx=100000\n",
    "ne = 1e8\n",
    "fig=plt.figure()\n",
    "ax=fig.add_subplot(111)\n",
    "x=np.linspace(-30,30,nx-1)\n",
    "dx=100000/nx\n",
    "\n",
    "\n",
    "for i in range(5,6):\n",
    "   # a[int(ind[i])*nx:int(ind[i])*nx+nx] = normalize(a[int(ind[i])*nx:int(ind[i])*nx+nx],p[0],nx)\n",
    "    print(a[int(i)*nx+1:int(i)*nx+nx:].shape)\n",
    "    print(x.shape)\n",
    "    ax.plot(x,a[int(i)*nx+1:int(i)*nx+nx:],label=\"$E_{\"+str(i)+\"}$\")\n",
    "    plt.draw()\n",
    "\n",
    "ax.set_xlabel(\"$x$ $(a_0)$\",size=20)\n",
    "ax.set_ylabel(\"$\\Psi_n$ (not normalized)\",size=20)\n",
    "plt.legend()\n",
    "plt.show()\n",
    "plt.close()\n",
    "a=0\n",
    "p=0\n",
    "fig.clf()\n",
    "gc.collect()\n"
   ]
  },
  {
   "cell_type": "code",
   "execution_count": null,
   "metadata": {
    "collapsed": true
   },
   "outputs": [],
   "source": []
  }
 ],
 "metadata": {
  "kernelspec": {
   "display_name": "Python 3",
   "language": "python",
   "name": "python3"
  },
  "language_info": {
   "codemirror_mode": {
    "name": "ipython",
    "version": 3
   },
   "file_extension": ".py",
   "mimetype": "text/x-python",
   "name": "python",
   "nbconvert_exporter": "python",
   "pygments_lexer": "ipython3",
   "version": "3.5.1"
  }
 },
 "nbformat": 4,
 "nbformat_minor": 0
}
