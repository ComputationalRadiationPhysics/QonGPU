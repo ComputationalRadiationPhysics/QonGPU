{
 "cells": [
  {
   "cell_type": "code",
   "execution_count": 6,
   "metadata": {
    "collapsed": false
   },
   "outputs": [],
   "source": [
    "import numpy as np\n",
    "import matplotlib.pyplot as plt\n",
    "import h5py\n",
    "import time\n",
    "import progressbar\n",
    "import sys\n",
    "from Qutils import *\n",
    "import progressbar\n",
    "\n",
    "def calc_dipol(psi, dx, n0, n1, nt, x,nstep):\n",
    "    \"\"\"\n",
    "    Calculates the Dipol Moment for a given\n",
    "    wave-function psi for nt timesteps. Since\n",
    "    it is just the mean of the location operator x, \n",
    "    also a numpy array containing the corresponding \n",
    "    discrete spatial values is required. \n",
    "    \"\"\"\n",
    "    roh = get_prob_dens(psi, nt, nstep)\n",
    "    print(roh.shape)\n",
    "    print(x.shape)\n",
    "    res  = np.zeros(psi.shape[0])\n",
    "    print(\"Calculating Dipole moment\")\n",
    "    with progressbar.ProgressBar(max_value=int(psi.shape[0])) as bar:  \n",
    "        for i in range(0, psi.shape[0]):\n",
    "                res[i] = np.trapz(roh[i,:]*x, dx=dx)\n",
    "                bar.update(i)\n",
    "    return res\n",
    "\n",
    "def calc_dist(x, t):\n",
    "    \"\"\"\n",
    "    Calculate the disturbance term \n",
    "    \"\"\"\n",
    "    a = 6.9314718055994524e-07\n",
    "    b = 0.0069314718056\n",
    "    t0 = 50.0\n",
    "    w = 1.51939\n",
    "    k = w/137\n",
    "    I = 20.0\n",
    "    res = np.zeros([t.size,x.size])\n",
    "    for i in range(0, t.size):\n",
    "        if t[i] < 50:\n",
    "            g = t[i]/t0\n",
    "        else:\n",
    "            g = 1.0\n",
    "        res[i] = I * np.sin(w*t[i]-k*x)*g\n",
    "    return res\n",
    "\n",
    "def int_dist(vals, h):\n",
    "    \"\"\"\n",
    "    \"\"\"\n",
    "    res = np.zeros(vals.shape[0])\n",
    "    for i in range(0, vals.shape[0]):\n",
    "        res[i] = np.trapz(vals[i],dx=h)\n",
    "    return res\n",
    "        "
   ]
  },
  {
   "cell_type": "code",
   "execution_count": 15,
   "metadata": {
    "collapsed": false
   },
   "outputs": [
    {
     "name": "stderr",
     "output_type": "stream",
     "text": [
      "  2% (  2600 of 100000) |#                                                       | Elapsed Time: 0:00:00 ETA: 0:00:06"
     ]
    },
    {
     "name": "stdout",
     "output_type": "stream",
     "text": [
      "Loading file\n"
     ]
    },
    {
     "name": "stderr",
     "output_type": "stream",
     "text": [
      "100% (100000 of 100000) |#######################################################| Elapsed Time: 0:00:08 Time: 0:00:08\n",
      " 18% ( 189 of 1000) |###########                                                 | Elapsed Time: 0:00:00 ETA: 0:00:00"
     ]
    },
    {
     "name": "stdout",
     "output_type": "stream",
     "text": [
      "(1000, 100000)\n",
      "(100000,)\n",
      "Calculating Dipole moment\n"
     ]
    },
    {
     "name": "stderr",
     "output_type": "stream",
     "text": [
      "100% (1000 of 1000) |###########################################################| Elapsed Time: 0:00:01 Time: 0:00:01\n"
     ]
    }
   ],
   "source": [
    "filepath = \"../../build/res.h5\"\n",
    "fig = plt.figure(figsize=(14,10))\n",
    "ax1 = plt.subplot()\n",
    "nx = np.int32(1e5)\n",
    "nt = np.int32(1e5)\n",
    "xmax = 30.0\n",
    "xmin = -xmax\n",
    "tmax = 100.0\n",
    "tmin = 0\n",
    "\n",
    "nstep = 100\n",
    "t = np.linspace(tmin, tmax, int(nt/nstep))\n",
    "\n",
    "h = 0.0006 \n",
    "n0 = 50000\n",
    "n1 = 66667\n",
    "dx = 0.0006\n",
    "psi = load_vals(filepath, nt, nx, nstep)\n",
    "x = np.linspace(xmin, xmax, psi.shape[1])\n",
    "p = calc_dipol(psi, dx, n0, n1, nt, x, nstep)\n",
    "\n",
    "p *= 1/np.max(p)\n",
    "\n",
    "\n",
    "ax1.plot(t, p, color=\"r\",lw=2,label=r\"$\\lambda_1=29.98 \\, nm , \\; I = 0.816 \\, keV$\")\n",
    "\n",
    "vals = calc_dist(x,t)\n",
    "res = int_dist(vals, h)\n",
    "res *= 1/np.max(res)\n",
    "ax1.set_xlabel(\"t $(at.u.)$\",size=20)\n",
    "ax1.set_ylabel(\"Normed quantities $(arb. u.)$\",size=20)\n",
    "\n",
    "ax1.plot(t,res,\"g\",label=r\"$\\int \\, V(x) \\, dx$ normed\")\n",
    "plt.legend(loc='best',prop={'size':15})\n",
    "\n",
    "\n",
    "plt.title(r\"$\\vec{P}=-e<x>\\vec{e_x}$\",size=20)\n",
    "plt.show()\n"
   ]
  },
  {
   "cell_type": "code",
   "execution_count": null,
   "metadata": {
    "collapsed": false
   },
   "outputs": [],
   "source": []
  },
  {
   "cell_type": "code",
   "execution_count": null,
   "metadata": {
    "collapsed": true
   },
   "outputs": [],
   "source": []
  },
  {
   "cell_type": "code",
   "execution_count": null,
   "metadata": {
    "collapsed": true
   },
   "outputs": [],
   "source": []
  }
 ],
 "metadata": {
  "kernelspec": {
   "display_name": "Python 3",
   "language": "python",
   "name": "python3"
  },
  "language_info": {
   "codemirror_mode": {
    "name": "ipython",
    "version": 3
   },
   "file_extension": ".py",
   "mimetype": "text/x-python",
   "name": "python",
   "nbconvert_exporter": "python",
   "pygments_lexer": "ipython3",
   "version": "3.4.3"
  }
 },
 "nbformat": 4,
 "nbformat_minor": 0
}
