{
 "cells": [
  {
   "cell_type": "code",
   "execution_count": 3,
   "metadata": {
    "collapsed": false
   },
   "outputs": [
    {
     "name": "stderr",
     "output_type": "stream",
     "text": [
      "/usr/local/lib/python3.5/site-packages/ipykernel/__main__.py:34: DeprecationWarning: using a non-integer number instead of an integer will result in an error in the future\n",
      "/usr/local/lib/python3.5/site-packages/ipykernel/__main__.py:35: DeprecationWarning: using a non-integer number instead of an integer will result in an error in the future\n",
      "/usr/local/lib/python3.5/site-packages/ipykernel/__main__.py:36: DeprecationWarning: using a non-integer number instead of an integer will result in an error in the future\n",
      "/usr/local/lib/python3.5/site-packages/ipykernel/__main__.py:37: DeprecationWarning: using a non-integer number instead of an integer will result in an error in the future\n",
      "  0% (   0 of 2000) |                                     | Elapsed Time: 0:00:00 ETA:  --:--:--/usr/local/lib/python3.5/site-packages/ipykernel/__main__.py:65: ComplexWarning: Casting complex values to real discards the imaginary part\n",
      "/usr/local/lib/python3.5/site-packages/ipykernel/__main__.py:66: ComplexWarning: Casting complex values to real discards the imaginary part\n",
      " 99% (1997 of 2000) |###################################### | Elapsed Time: 0:19:41 ETA: 0:00:02"
     ]
    },
    {
     "name": "stdout",
     "output_type": "stream",
     "text": [
      "199996000\n",
      "199996000\n",
      "Done!\n"
     ]
    },
    {
     "name": "stderr",
     "output_type": "stream",
     "text": [
      "\r",
      " 99% (1998 of 2000) |###################################### | Elapsed Time: 0:19:42 ETA: 0:00:01"
     ]
    }
   ],
   "source": [
    "import numpy as np\n",
    "import matplotlib.pyplot as plt\n",
    "import h5py\n",
    "\n",
    "\n",
    "import progressbar\n",
    "\n",
    "\n",
    "\n",
    "def derv(f, dx):\n",
    "    \"\"\"\n",
    "    Uses the finite difference method\n",
    "    in order to differentiate f with \n",
    "    spatial step dx.\n",
    "    \"\"\"\n",
    "    return 1/dx*(f[1:f.size-1]-f[0:f.size-2])\n",
    "\n",
    "xmax = 30\n",
    "xmin = -30\n",
    "nx = 1e5\n",
    "\n",
    "x, dx = np.linspace(xmin, xmax, nx, retstep=True)\n",
    "\n",
    "\n",
    "file_str = \"../../build/res.h5\"\n",
    "\n",
    "# Loop to load and differentiate all \n",
    "# datasets\n",
    "\n",
    "i_start = 28000\n",
    "i_end = 30000\n",
    "inum = i_end - i_start\n",
    "\n",
    "psi_derv = np.zeros((inum, nx-2))\n",
    "psic_derv = np.zeros((inum, nx-2))\n",
    "psi = np.zeros((inum, nx-2))\n",
    "psic = np.zeros((inum, nx-2))\n",
    "\n",
    "file = h5py.File(file_str)\n",
    "\n",
    "bar = progressbar.ProgressBar(max_value=inum)\n",
    "for i  in range(i_start, i_end):\n",
    "    \n",
    "    dstrl_str = \"dset\"+str(i)+\"real\"\n",
    "    dstim_str = \"dset\"+str(i)+\"img\"\n",
    "    \n",
    "    if dstrl_str in file and dstim_str in file:\n",
    "        \n",
    "        dreal = np.array(file[dstrl_str])\n",
    "        dimag = np.array(file[dstim_str])\n",
    "        psi = dreal + 1j* dimag\n",
    "        dreal = 0\n",
    "        dimag = 0\n",
    "        \n",
    "    else:\n",
    "        print(dstrl_str)\n",
    "        print(dstim_str)\n",
    "        print(\"Not found!\")\n",
    "        file.close()\n",
    "        exit()\n",
    "    bar.update(i-i_start)\n",
    "    psi_derv[i-i_start, :] = derv(psi, dx)\n",
    "    psic_derv[i-i_start,:] = derv(np.conj(psi),dx)\n",
    "    \n",
    "\n",
    "print(\"Done!\")"
   ]
  },
  {
   "cell_type": "code",
   "execution_count": null,
   "metadata": {
    "collapsed": true
   },
   "outputs": [],
   "source": []
  }
 ],
 "metadata": {
  "kernelspec": {
   "display_name": "Python 3",
   "language": "python",
   "name": "python3"
  },
  "language_info": {
   "codemirror_mode": {
    "name": "ipython",
    "version": 3
   },
   "file_extension": ".py",
   "mimetype": "text/x-python",
   "name": "python",
   "nbconvert_exporter": "python",
   "pygments_lexer": "ipython3",
   "version": "3.5.2"
  }
 },
 "nbformat": 4,
 "nbformat_minor": 0
}
