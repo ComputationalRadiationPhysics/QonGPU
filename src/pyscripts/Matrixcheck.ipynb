{
 "cells": [
  {
   "cell_type": "code",
   "execution_count": 4,
   "metadata": {
    "collapsed": false
   },
   "outputs": [],
   "source": [
    "import numpy as np \n",
    "import matplotlib.pyplot as plt\n",
    "import matplotlib as mpl\n",
    "import h5py\n",
    "import cmath\n",
    "\n",
    "file = h5py.File(\"../../build/matr.h5\")\n",
    "\n",
    "dlreal = np.array(file[\"/dset0real\"])\n",
    "dlimg = np.array(file[\"/dset0img\"])\n",
    "\n",
    "dureal = np.array(file[\"/dset1real\"])\n",
    "duimg = np.array(file[\"/dset1img\"])\n",
    "\n",
    "fig = plt.figure()\n",
    "ax = fig.add_subplot(111)\n",
    "\n",
    "\n",
    "t=3\n",
    "dstr =  \"/dset\"+str(t)\n",
    "r = \"real\"\n",
    "im = \"img\"\n",
    "\n",
    "rhsreal = np.array(file[dstr+r])\n",
    "rhsimg = np.array(file[dstr+im])\n",
    "\n",
    "x = np.linspace(0,15.0,1e4)\n",
    "V = lambda x: 2/(x*x+1)\n",
    "\n",
    "tau = 8.0 / 1e4 / 2\n",
    "\n",
    "ax.plot(rhsreal)\n",
    "#ax.plot(x, rhsimg,\".\")\n",
    "#ax.plot(dlreal)\n",
    "#ax.plot(dlimg)\n",
    "#ax.plot(dureal)\n",
    "#ax.plot(duimg)\n",
    "\n",
    "plt.show()\n",
    "file.close()"
   ]
  },
  {
   "cell_type": "code",
   "execution_count": null,
   "metadata": {
    "collapsed": true
   },
   "outputs": [],
   "source": []
  }
 ],
 "metadata": {
  "kernelspec": {
   "display_name": "Python 3",
   "language": "python",
   "name": "python3"
  },
  "language_info": {
   "codemirror_mode": {
    "name": "ipython",
    "version": 3
   },
   "file_extension": ".py",
   "mimetype": "text/x-python",
   "name": "python",
   "nbconvert_exporter": "python",
   "pygments_lexer": "ipython3",
   "version": "3.5.1"
  }
 },
 "nbformat": 4,
 "nbformat_minor": 0
}
