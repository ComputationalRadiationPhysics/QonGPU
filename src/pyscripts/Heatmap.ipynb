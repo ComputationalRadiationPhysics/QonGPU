{
 "cells": [
  {
   "cell_type": "code",
   "execution_count": null,
   "metadata": {
    "collapsed": false
   },
   "outputs": [
    {
     "name": "stdout",
     "output_type": "stream",
     "text": [
      "1.5.1\n",
      "Working\n",
      "Not found!\n",
      "Not found!\n"
     ]
    },
    {
     "ename": "ValueError",
     "evalue": "Not a file id (Not a file id)",
     "output_type": "error",
     "traceback": [
      "\u001b[0;31m---------------------------------------------------------------------------\u001b[0m",
      "\u001b[0;31mValueError\u001b[0m                                Traceback (most recent call last)",
      "\u001b[0;32m<ipython-input-1-23efd2332b01>\u001b[0m in \u001b[0;36m<module>\u001b[0;34m()\u001b[0m\n\u001b[1;32m     53\u001b[0m     \u001b[0;32melse\u001b[0m\u001b[0;34m:\u001b[0m\u001b[0;34m\u001b[0m\u001b[0m\n\u001b[1;32m     54\u001b[0m         \u001b[0mprint\u001b[0m\u001b[0;34m(\u001b[0m\u001b[0;34m\"Not found!\"\u001b[0m\u001b[0;34m)\u001b[0m\u001b[0;34m\u001b[0m\u001b[0m\n\u001b[0;32m---> 55\u001b[0;31m         \u001b[0mfile\u001b[0m\u001b[0;34m.\u001b[0m\u001b[0mclose\u001b[0m\u001b[0;34m(\u001b[0m\u001b[0;34m)\u001b[0m\u001b[0;34m\u001b[0m\u001b[0m\n\u001b[0m\u001b[1;32m     56\u001b[0m         \u001b[0mexit\u001b[0m\u001b[0;34m(\u001b[0m\u001b[0;34m)\u001b[0m\u001b[0;34m\u001b[0m\u001b[0m\n\u001b[1;32m     57\u001b[0m     \u001b[0;31m#prob[int(i/100)] = np.trapz(y=psi,x=x)\u001b[0m\u001b[0;34m\u001b[0m\u001b[0;34m\u001b[0m\u001b[0m\n",
      "\u001b[0;32m/usr/local/lib/python3.5/site-packages/h5py/_hl/files.py\u001b[0m in \u001b[0;36mclose\u001b[0;34m(self)\u001b[0m\n\u001b[1;32m    286\u001b[0m             \u001b[0;31m# Close file-resident objects first, then the files.\u001b[0m\u001b[0;34m\u001b[0m\u001b[0;34m\u001b[0m\u001b[0m\n\u001b[1;32m    287\u001b[0m             \u001b[0;31m# Otherwise we get errors in MPI mode.\u001b[0m\u001b[0;34m\u001b[0m\u001b[0;34m\u001b[0m\u001b[0m\n\u001b[0;32m--> 288\u001b[0;31m             \u001b[0mid_list\u001b[0m \u001b[0;34m=\u001b[0m \u001b[0mh5f\u001b[0m\u001b[0;34m.\u001b[0m\u001b[0mget_obj_ids\u001b[0m\u001b[0;34m(\u001b[0m\u001b[0mself\u001b[0m\u001b[0;34m.\u001b[0m\u001b[0mid\u001b[0m\u001b[0;34m,\u001b[0m \u001b[0;34m~\u001b[0m\u001b[0mh5f\u001b[0m\u001b[0;34m.\u001b[0m\u001b[0mOBJ_FILE\u001b[0m\u001b[0;34m)\u001b[0m\u001b[0;34m\u001b[0m\u001b[0m\n\u001b[0m\u001b[1;32m    289\u001b[0m             \u001b[0mfile_list\u001b[0m \u001b[0;34m=\u001b[0m \u001b[0mh5f\u001b[0m\u001b[0;34m.\u001b[0m\u001b[0mget_obj_ids\u001b[0m\u001b[0;34m(\u001b[0m\u001b[0mself\u001b[0m\u001b[0;34m.\u001b[0m\u001b[0mid\u001b[0m\u001b[0;34m,\u001b[0m \u001b[0mh5f\u001b[0m\u001b[0;34m.\u001b[0m\u001b[0mOBJ_FILE\u001b[0m\u001b[0;34m)\u001b[0m\u001b[0;34m\u001b[0m\u001b[0m\n\u001b[1;32m    290\u001b[0m \u001b[0;34m\u001b[0m\u001b[0m\n",
      "\u001b[0;32mh5py/_objects.pyx\u001b[0m in \u001b[0;36mh5py._objects.with_phil.wrapper (/Users/travis/build/MacPython/h5py-wheels/h5py/h5py/_objects.c:2687)\u001b[0;34m()\u001b[0m\n",
      "\u001b[0;32mh5py/_objects.pyx\u001b[0m in \u001b[0;36mh5py._objects.with_phil.wrapper (/Users/travis/build/MacPython/h5py-wheels/h5py/h5py/_objects.c:2645)\u001b[0;34m()\u001b[0m\n",
      "\u001b[0;32mh5py/h5f.pyx\u001b[0m in \u001b[0;36mh5py.h5f.get_obj_ids (/Users/travis/build/MacPython/h5py-wheels/h5py/h5py/h5f.c:3235)\u001b[0;34m()\u001b[0m\n",
      "\u001b[0;31mValueError\u001b[0m: Not a file id (Not a file id)"
     ]
    }
   ],
   "source": [
    "import matplotlib.pyplot as plt\n",
    "import numpy as np\n",
    "import h5py\n",
    "import matplotlib as mpl\n",
    "\n",
    "\n",
    "print(mpl.__version__)\n",
    "\n",
    "\n",
    "file_loc = \"../../build/res.h5\"\n",
    "file = h5py.File(file_loc)\n",
    "\n",
    "str_0 = \"/dset\"\n",
    "\n",
    "from matplotlib import rc\n",
    "rc('font',**{'family':'sans-serif','sans-serif':['Helvetica']})\n",
    "## for Palatino and other serif fonts use:\n",
    "#rc('font',**{'family':'serif','serif':['Palatino']})\n",
    "rc('text', usetex=True)\n",
    "\n",
    "\n",
    "plt.rc('font', family='serif')\n",
    "plt.rc('xtick', labelsize=30)\n",
    "plt.rc('ytick', labelsize=30)\n",
    "\n",
    "\n",
    "t = np.linspace(0, 5000, 1000)\n",
    "x = np.linspace(-30,30,100000)\n",
    "\n",
    "#T,X = np.meshgrid(t,x,sparse=False,indexing='xy')\n",
    "\n",
    "pic = np.zeros((100000,1000))\n",
    "#prob = np.zeros(1000) \n",
    "dimag = 0\n",
    "dreal = 0\n",
    "psi = 0\n",
    "print(\"Working\")\n",
    "for i in range(28000, 30000):\n",
    "    \n",
    "    ind = i\n",
    "    \n",
    "    r_str = str_0 + str(ind) + \"real\"\n",
    "    i_str =str_0 + str(ind) + \"img\"\n",
    "    \n",
    "    if r_str in file and i_str in file:\n",
    "        \n",
    "        dreal = np.array(file[r_str])\n",
    "        dimag = np.array(file[i_str])\n",
    "        psi = dreal**2 + dimag**2\n",
    "        dreal = 0\n",
    "        dimag = 0\n",
    "        \n",
    "    else:\n",
    "        print(\"Not found!\")\n",
    "        print()\n",
    "        file.close()\n",
    "        exit()\n",
    "    #prob[int(i/100)] = np.trapz(y=psi,x=x)\n",
    "    #print(np.trapz(y=psi,x=x))\n",
    "    pic[:,int(i-28000)] = psi\n",
    "\n",
    "\n",
    "print(\"Plotting!\")\n",
    "\n",
    "\n",
    "g_t = lambda t: np.exp(-a*(t-t0)**2)\n",
    "g_s = lambda x: np.exp(-b*(x)**2)\n",
    "\n",
    "a = np.log(2)/(1500-2500)**2\n",
    "print(\"a = \"+str(a))\n",
    "b = np.log(2)/(10)**2\n",
    "x = np.linspace(-30, 30, 1e3)\n",
    "\n",
    "t0 = 2500\n",
    "x0 = 0\n",
    "\n",
    "plt.imshow(pic,cmap=\"jet_r\",extent=[t[0],t[-1],x[0],x[-1]],aspect='auto',interpolation='nearest')\n",
    "plt.plot(t,10*g_t(t)-15, color=\"white\", linewidth=3)\n",
    "plt.text(510,-12,r\"$g_t(t) $\",fontsize=30,color=\"white\")\n",
    "plt.xlabel(r\"$t  \\ (a.u.)$\",size=40)\n",
    "plt.ylabel(r\"$x \\ (a.u.)$\",size=40)\n",
    "plt.xticks(fontsize=30)\n",
    "plt.yticks(fontsize=30)\n",
    "print(\"Plotting finished!\")\n",
    "c = plt.colorbar()\n",
    "c.set_label(r\"Probability density  $|\\psi_n|^2$\",size=30)\n",
    "print(\"Colorbar done!\")\n",
    "plt.show()\n",
    "print(\"Showing done!\")\n",
    "file.close()\n",
    "print(\"Finised!\")\n"
   ]
  },
  {
   "cell_type": "code",
   "execution_count": 2,
   "metadata": {
    "collapsed": true
   },
   "outputs": [],
   "source": [
    "plt.show()"
   ]
  },
  {
   "cell_type": "code",
   "execution_count": null,
   "metadata": {
    "collapsed": true
   },
   "outputs": [],
   "source": []
  }
 ],
 "metadata": {
  "kernelspec": {
   "display_name": "Python 3",
   "language": "python",
   "name": "python3"
  },
  "language_info": {
   "codemirror_mode": {
    "name": "ipython",
    "version": 3
   },
   "file_extension": ".py",
   "mimetype": "text/x-python",
   "name": "python",
   "nbconvert_exporter": "python",
   "pygments_lexer": "ipython3",
   "version": "3.5.2"
  }
 },
 "nbformat": 4,
 "nbformat_minor": 0
}
