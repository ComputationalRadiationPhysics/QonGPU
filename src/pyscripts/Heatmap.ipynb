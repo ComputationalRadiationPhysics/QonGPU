{
 "cells": [
  {
   "cell_type": "code",
   "execution_count": null,
   "metadata": {
    "collapsed": false
   },
   "outputs": [],
   "source": [
    "import matplotlib.pyplot as plt\n",
    "import numpy as np\n",
    "import h5py\n",
    "import matplotlib as mpl\n",
    "\n",
    "\n",
    "print(mpl.__version__)\n",
    "\n",
    "\n",
    "file_loc = \"../../simres/heat_res.h5\"\n",
    "file = h5py.File(file_loc)\n",
    "\n",
    "str_0 = \"/dset\"\n",
    "\n",
    "from matplotlib import rc\n",
    "rc('font',**{'family':'sans-serif','sans-serif':['Helvetica']})\n",
    "## for Palatino and other serif fonts use:\n",
    "#rc('font',**{'family':'serif','serif':['Palatino']})\n",
    "rc('text', usetex=True)\n",
    "\n",
    "\n",
    "plt.rc('font', family='serif')\n",
    "plt.rc('xtick', labelsize=30)\n",
    "plt.rc('ytick', labelsize=30)\n",
    "\n",
    "\n",
    "t = np.linspace(0, 5000, 1000)\n",
    "x = np.linspace(-30,30,100000)\n",
    "\n",
    "#T,X = np.meshgrid(t,x,sparse=False,indexing='xy')\n",
    "\n",
    "pic = np.zeros((100000,1000))\n",
    "#prob = np.zeros(1000) \n",
    "dimag = 0\n",
    "dreal = 0\n",
    "psi = 0\n",
    "print(\"Working\")\n",
    "for i in range(0, 100000, 100):\n",
    "    \n",
    "    ind = i+1\n",
    "    \n",
    "    r_str = str_0 + str(ind) + \"real\"\n",
    "    i_str =str_0 + str(ind) + \"img\"\n",
    "    \n",
    "    if r_str in file and i_str in file:\n",
    "        \n",
    "        dreal = np.array(file[r_str])\n",
    "        dimag = np.array(file[i_str])\n",
    "        psi = dreal**2 + dimag**2\n",
    "        dreal = 0\n",
    "        dimag = 0\n",
    "        \n",
    "    else:\n",
    "        print(\"Not found!\")\n",
    "        file.close()\n",
    "        exit()\n",
    "    #prob[int(i/100)] = np.trapz(y=psi,x=x)\n",
    "    #print(np.trapz(y=psi,x=x))\n",
    "    pic[:,int(i/100)] = psi\n",
    "\n",
    "\n",
    "print(\"Plotting!\")\n",
    "\n",
    "\n",
    "g_t = lambda t: np.exp(-a*(t-t0)**2)\n",
    "g_s = lambda x: np.exp(-b*(x)**2)\n",
    "\n",
    "a = np.log(2)/(1500-2500)**2\n",
    "print(\"a = \"+str(a))\n",
    "b = np.log(2)/(10)**2\n",
    "x = np.linspace(-30, 30, 1e3)\n",
    "\n",
    "t0 = 2500\n",
    "x0 = 0\n",
    "\n",
    "plt.imshow(pic,cmap=\"plasma\",extent=[t[0],t[-1],x[0],x[-1]],aspect='auto',interpolation='nearest')\n",
    "plt.plot(t,10*g_t(t)-15, color=\"white\", linewidth=3)\n",
    "plt.text(510,-12,r\"$g_t(t) $\",fontsize=30,color=\"white\")\n",
    "plt.xlabel(r\"$t  \\ (a.u.)$\",size=40)\n",
    "plt.ylabel(r\"$x \\ (a.u.)$\",size=40)\n",
    "plt.xticks(fontsize=30)\n",
    "plt.yticks(fontsize=30)\n",
    "print(\"Plotting finished!\")\n",
    "c = plt.colorbar()\n",
    "c.set_label(r\"Probability density  $|\\psi_n|^2$\",size=30)\n",
    "print(\"Colorbar done!\")\n",
    "plt.show()\n",
    "print(\"Showing done!\")\n",
    "file.close()\n",
    "print(\"Finised!\")\n"
   ]
  },
  {
   "cell_type": "code",
   "execution_count": 2,
   "metadata": {
    "collapsed": true
   },
   "outputs": [],
   "source": [
    "plt.show()"
   ]
  },
  {
   "cell_type": "code",
   "execution_count": null,
   "metadata": {
    "collapsed": true
   },
   "outputs": [],
   "source": []
  }
 ],
 "metadata": {
  "kernelspec": {
   "display_name": "Python 3",
   "language": "python",
   "name": "python3"
  },
  "language_info": {
   "codemirror_mode": {
    "name": "ipython",
    "version": 3
   },
   "file_extension": ".py",
   "mimetype": "text/x-python",
   "name": "python",
   "nbconvert_exporter": "python",
   "pygments_lexer": "ipython3",
   "version": "3.5.2"
  }
 },
 "nbformat": 4,
 "nbformat_minor": 0
}
