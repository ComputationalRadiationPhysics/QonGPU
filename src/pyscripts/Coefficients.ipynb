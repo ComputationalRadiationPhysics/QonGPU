{
 "cells": [
  {
   "cell_type": "code",
   "execution_count": 3,
   "metadata": {
    "collapsed": true
   },
   "outputs": [],
   "source": [
    "import numpy as np\n",
    "import matplotlib.pyplot as plt\n",
    "import h5py\n",
    "import time\n",
    "import progressbar"
   ]
  },
  {
   "cell_type": "code",
   "execution_count": null,
   "metadata": {
    "collapsed": false
   },
   "outputs": [
    {
     "name": "stderr",
     "output_type": "stream",
     "text": [
      "100% (100000 of 100000) |############| Elapsed Time: 0:00:08 Time: 0:00:08\n",
      "100% (100000 of 100000) |############| Elapsed Time: 0:00:09 Time: 0:00:09\n",
      "100% (100000 of 100000) |############| Elapsed Time: 0:00:09 Time: 0:00:09\n",
      "100% (100000 of 100000) |############| Elapsed Time: 0:00:08 Time: 0:00:08\n"
     ]
    }
   ],
   "source": [
    "\n",
    "def load_wf(filepath):\n",
    "    \"\"\"\n",
    "    Load a distinct energy levels \n",
    "    as a numpy array into memory\n",
    "    \"\"\"\n",
    "    file = h5py.File(filepath)\n",
    "    if \"/numres\" in file:\n",
    "        data = np.array(file[\"/numres\"])\n",
    "        file.close()\n",
    "        return data\n",
    "    else:\n",
    "        file.close()\n",
    "        return -1\n",
    "\n",
    "\n",
    "def load_timestep(filepath,nt,t0=0,):\n",
    "    \"\"\"\n",
    "    Load a timestep from a result file\n",
    "    and returns it as a complex numpy array.\n",
    "    \n",
    "    \"\"\"\n",
    "    file = h5py.File(filepath)\n",
    "    rl = \"/dset\"+str(nt)+\"real\"\n",
    "    im = \"dset\"+str(nt)+\"img\"\n",
    "    if (rl in file) and (im in file):\n",
    "        imag = np.array(file[rl])\n",
    "        real = np.array(file[im])\n",
    "        res = real + 1j * imag\n",
    "        file.close()\n",
    "        return res\n",
    "    else:\n",
    "        file.close()\n",
    "        return -1\n",
    "    \n",
    "def get_coeff(filepath_stat, filepath_ev, t0, tmax, nt, toff,xmin, xmax, nx):\n",
    "    \"\"\"\n",
    "    Returns the absolute square of the evolution coefficients c_n = <psi_n | psi_x >\n",
    "    \n",
    "    \"\"\"\n",
    "    # get the complex initial wavefunction\n",
    "    psin = load_wf(filepath_stat)*(1+1j*0)\n",
    "    cn = np.zeros(np.int32(nt/toff))\n",
    "    c1 = np.zeros(np.int32(nt/toff))\n",
    "    c2 = np.zeros(np.int32(nt/toff))\n",
    "    c3 = np.zeros(np.int32(nt/toff))\n",
    "    c4 = np.zeros(np.int32(nt/toff))\n",
    "    \n",
    "    dx = (xmax-xmin)/nx\n",
    "    \n",
    "    with progressbar.ProgressBar(max_value=int(nt)) as bar:\n",
    "        n1 = 1 \n",
    "        n2 = 2\n",
    "        for i in range(0, int(nt),toff):\n",
    "            index = np.int32(i/toff)\n",
    "            psik = load_timestep(filepath_ev, i)\n",
    "            bar.update(i)\n",
    "            cn[index] = np.abs(np.trapz(np.conj(psik)*psin,dx=dx))**2\n",
    "        #cn = np.abs(psin)**2\n",
    "    return cn\n",
    "\n",
    "fig = plt.figure(figsize=(14,10))\n",
    "plt.subplot(221)\n",
    "k4 = get_coeff(\"45_au_s2.h5\",\"../../build/res.h5\",0,5000,1e5,100,-45,45,1e5)\n",
    "t = np.linspace(0, 5000,1e3)\n",
    "plt.xlabel(r\"time $(a.u.)$\")\n",
    "plt.ylabel(r\"$|C_2(t)|^2$\")\n",
    "plt.plot(t,k4,label=r\"$c_2(t)$\")\n",
    "plt.legend()\n",
    "plt.subplot(222)\n",
    "k3 = get_coeff(\"45_au_s6.h5\",\"../../build/res.h5\",0,5000,1e5,100,-45,45,1e5)\n",
    "plt.xlabel(r\"time $(a.u.)$\")\n",
    "plt.ylabel(r\"$|C_n(t)|^2$\")\n",
    "plt.plot(t,k3,label=r\"$c_6(t)$\",c=\"green\")\n",
    "plt.legend()\n",
    "plt.subplot(223)\n",
    "k4 = get_coeff(\"45_au_s3.h5\",\"../../build/res.h5\",0,5000,1e5,100,-45,45,1e5)\n",
    "plt.xlabel(r\"time $(a.u.)$\")\n",
    "plt.ylabel(r\"$|C_n(t)|^2$\")\n",
    "plt.plot(t,k4,label=r\"$c_3(t)$\",c=\"red\")\n",
    "plt.legend()\n",
    "\n",
    "plt.subplot(224)\n",
    "k4 = get_coeff(\"45_au_s4.h5\",\"../../build/res.h5\",0,5000,1e5,100,-45,45,1e5)\n",
    "plt.xlabel(r\"time $(a.u.)$\")\n",
    "plt.ylabel(r\"$|C_n(t)|^2$\")\n",
    "plt.plot(t,k4,label=r\"$c_4(t)$\",c=\"purple\")\n",
    "\n",
    "\n",
    "plt.legend()\n",
    "plt.show()"
   ]
  },
  {
   "cell_type": "code",
   "execution_count": 10,
   "metadata": {
    "collapsed": false
   },
   "outputs": [
    {
     "data": {
      "text/plain": [
       "(326734.69387755101+0j)"
      ]
     },
     "execution_count": 10,
     "metadata": {},
     "output_type": "execute_result"
    }
   ],
   "source": []
  },
  {
   "cell_type": "code",
   "execution_count": null,
   "metadata": {
    "collapsed": true
   },
   "outputs": [],
   "source": []
  }
 ],
 "metadata": {
  "kernelspec": {
   "display_name": "Python 3",
   "language": "python",
   "name": "python3"
  },
  "language_info": {
   "codemirror_mode": {
    "name": "ipython",
    "version": 3
   },
   "file_extension": ".py",
   "mimetype": "text/x-python",
   "name": "python",
   "nbconvert_exporter": "python",
   "pygments_lexer": "ipython3",
   "version": "3.4.3"
  }
 },
 "nbformat": 4,
 "nbformat_minor": 0
}
