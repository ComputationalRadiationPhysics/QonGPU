{
 "cells": [
  {
   "cell_type": "code",
   "execution_count": 1,
   "metadata": {
    "collapsed": true
   },
   "outputs": [],
   "source": [
    "import numpy as np\n",
    "import matplotlib.pyplot as plt\n",
    "import h5py\n",
    "import time\n",
    "import progressbar"
   ]
  },
  {
   "cell_type": "code",
   "execution_count": null,
   "metadata": {
    "collapsed": false
   },
   "outputs": [
    {
     "name": "stderr",
     "output_type": "stream",
     "text": [
      "/home/boehme03/.local/lib/python3.4/site-packages/numpy/core/numeric.py:190: VisibleDeprecationWarning: using a non-integer number instead of an integer will result in an error in the future\n",
      "  a = empty(shape, dtype, order)\n",
      "  4% (  4217 of 100000) |             | Elapsed Time: 0:00:26 ETA: 0:09:59"
     ]
    }
   ],
   "source": [
    "\n",
    "def load_wf(filepath):\n",
    "    \"\"\"\n",
    "    Load a distinct energy levels \n",
    "    as a numpy array into memory\n",
    "    \"\"\"\n",
    "    file = h5py.File(filepath)\n",
    "    if \"/numres\" in file:\n",
    "        data = np.array(file[\"/numres\"])\n",
    "        file.close()\n",
    "        return data\n",
    "    else:\n",
    "        file.close()\n",
    "        return -1\n",
    "\n",
    "\n",
    "def load_timestep(filepath,nt,t0=0,):\n",
    "    \"\"\"\n",
    "    Load a timestep from a result file\n",
    "    and returns it as a complex numpy array.\n",
    "    \n",
    "    \"\"\"\n",
    "    file = h5py.File(filepath)\n",
    "    rl = \"/dset\"+str(nt)+\"real\"\n",
    "    im = \"dset\"+str(nt)+\"img\"\n",
    "    if (rl in file) and (im in file):\n",
    "        imag = np.array(file[rl])\n",
    "        real = np.array(file[im])\n",
    "        res = real + 1j * imag\n",
    "        file.close()\n",
    "        return res\n",
    "    else:\n",
    "        file.close()\n",
    "        return -1\n",
    "    \n",
    "def get_coeff(filepath_stat, filepath_ev, t0, tmax, nt, xmin, xmax, nx):\n",
    "    \"\"\"\n",
    "    Returns the absolute square of the evolution coefficients c_n = <psi_n | psi_x >\n",
    "    \n",
    "    \"\"\"\n",
    "    # get the complex initial wavefunction\n",
    "    psin = load_wf(filepath_stat)*(1+1j*0)\n",
    "    cn = np.ones(nt,dtype=complex)\n",
    "    dx = (xmax-xmin)/nx\n",
    "    with progressbar.ProgressBar(max_value=int(nt)) as bar:\n",
    "        for i in range(0, int(nt)):\n",
    "            psik = load_timestep(filepath_ev, i)\n",
    "            bar.update(i)\n",
    "            cn[i] = np.abs(np.trapz(np.conj(psik)*psin,dx=dx))**2\n",
    "    \n",
    "        return cn\n",
    "\n",
    "k = get_coeff(\"90_au_s3.h5\",\"../../build/res.h5\",0,5000,1e5,-60,60,1e5)\n",
    "plt.plot(k)\n",
    "plt.show()"
   ]
  },
  {
   "cell_type": "code",
   "execution_count": 10,
   "metadata": {
    "collapsed": false
   },
   "outputs": [
    {
     "data": {
      "text/plain": [
       "(326734.69387755101+0j)"
      ]
     },
     "execution_count": 10,
     "metadata": {},
     "output_type": "execute_result"
    }
   ],
   "source": []
  },
  {
   "cell_type": "code",
   "execution_count": null,
   "metadata": {
    "collapsed": true
   },
   "outputs": [],
   "source": []
  }
 ],
 "metadata": {
  "kernelspec": {
   "display_name": "Python 3",
   "language": "python",
   "name": "python3"
  },
  "language_info": {
   "codemirror_mode": {
    "name": "ipython",
    "version": 3
   },
   "file_extension": ".py",
   "mimetype": "text/x-python",
   "name": "python",
   "nbconvert_exporter": "python",
   "pygments_lexer": "ipython3",
   "version": "3.4.3"
  }
 },
 "nbformat": 4,
 "nbformat_minor": 0
}
