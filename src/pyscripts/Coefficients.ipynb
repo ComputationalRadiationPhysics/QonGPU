{
 "cells": [
  {
   "cell_type": "code",
   "execution_count": 7,
   "metadata": {
    "collapsed": true
   },
   "outputs": [],
   "source": [
    "import numpy as np\n",
    "import matplotlib.pyplot as plt\n",
    "import h5py\n"
   ]
  },
  {
   "cell_type": "code",
   "execution_count": null,
   "metadata": {
    "collapsed": false
   },
   "outputs": [],
   "source": [
    "\n",
    "def load_wf(filepath):\n",
    "    \"\"\"\n",
    "    Load a distinct energy levels \n",
    "    as a numpy array into memory\n",
    "    \"\"\"\n",
    "    file = h5py.File(filepath)\n",
    "    if \"/numres\" in file:\n",
    "        data = np.array(file[\"/numres\"])\n",
    "        file.close()\n",
    "        return data\n",
    "    else:\n",
    "        file.close()\n",
    "        return -1\n",
    "\n",
    "\n",
    "def load_timestep(filepath,nt,t0=0,):\n",
    "    \"\"\"\n",
    "    Load a timestep from a result file\n",
    "    and returns it as a complex numpy array.\n",
    "    \n",
    "    \"\"\"\n",
    "    file = h5py.File(filepath)\n",
    "    rl = \"/dset\"+str(nt)+\"real\"\n",
    "    im = \"dset\"+str(nt)+\"img\"\n",
    "    if (rl in file) and (im in file):\n",
    "        imag = np.array(file[rl])\n",
    "        real = np.array(file[im])\n",
    "        res = real + 1j * imag\n",
    "        file.close()\n",
    "        return res\n",
    "    else:\n",
    "        file.close()\n",
    "        return -1\n",
    "    \n",
    "a = load_timestep(\"../../build/res.h5\",0)\n",
    "plt.plot(np.abs(a))\n",
    "plt.show()"
   ]
  },
  {
   "cell_type": "code",
   "execution_count": 10,
   "metadata": {
    "collapsed": false
   },
   "outputs": [
    {
     "data": {
      "text/plain": [
       "(326734.69387755101+0j)"
      ]
     },
     "execution_count": 10,
     "metadata": {},
     "output_type": "execute_result"
    }
   ],
   "source": []
  },
  {
   "cell_type": "code",
   "execution_count": null,
   "metadata": {
    "collapsed": true
   },
   "outputs": [],
   "source": []
  }
 ],
 "metadata": {
  "kernelspec": {
   "display_name": "Python 3",
   "language": "python",
   "name": "python3"
  },
  "language_info": {
   "codemirror_mode": {
    "name": "ipython",
    "version": 3
   },
   "file_extension": ".py",
   "mimetype": "text/x-python",
   "name": "python",
   "nbconvert_exporter": "python",
   "pygments_lexer": "ipython3",
   "version": "3.4.3"
  }
 },
 "nbformat": 4,
 "nbformat_minor": 0
}
