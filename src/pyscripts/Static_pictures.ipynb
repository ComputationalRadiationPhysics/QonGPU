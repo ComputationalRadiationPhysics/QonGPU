{
 "cells": [
  {
   "cell_type": "code",
   "execution_count": 125,
   "metadata": {
    "collapsed": false
   },
   "outputs": [
    {
     "name": "stdout",
     "output_type": "stream",
     "text": [
      "(800000,)\n",
      "(8,)\n",
      "(3,)\n",
      "[  1.00000000e+05   1.00000000e+08   3.00000000e+01]\n"
     ]
    }
   ],
   "source": [
    "import numpy as np\n",
    "import matplotlib.pyplot as plt\n",
    "\n",
    "\n",
    "\n",
    "from matplotlib import rc\n",
    "rc('font',**{'family':'sans-serif','sans-serif':['Helvetica']})\n",
    "## for Palatino and other serif fonts use:\n",
    "#rc('font',**{'family':'serif','serif':['Palatino']})\n",
    "rc('text', usetex=True)\n",
    "\n",
    "import h5py\n",
    "\n",
    "file = h5py.File(\"sim1.h5\")\n",
    "\n",
    "try:\n",
    "    dset1 = np.array(file[\"/numres\"])\n",
    "    dset2 = np.array(file[\"/evals\"])\n",
    "    dset3 = np.array(file[\"/params\"])\n",
    "    \n",
    "except ValueError as err:\n",
    "    file.close()\n",
    "    \n",
    "print(dset1.shape)\n",
    "print(dset2.shape)\n",
    "print(dset3.shape)\n",
    "print(dset3)\n",
    "\n",
    "\n",
    "plt.rc('font', family='serif')\n",
    "plt.rc('xtick', labelsize='xx-large')\n",
    "plt.rc('ytick', labelsize='xx-large')\n",
    "\n",
    "\n",
    "pot = lambda x: -1/np.sqrt(x**2+1)\n",
    "\n",
    "nx = int(dset3[0])\n",
    "ne = int(dset3[1])\n",
    "xmax = dset3[-1]\n",
    "\n",
    "cmap = plt.get_cmap('rainbow')\n",
    "# Using a symmetric potentential\n",
    "xmin = -dset3[-1]\n",
    "\n",
    "n_lvl = np.int32(np.ceil(dset1.size/nx))\n",
    "\n",
    "h = (xmax - xmin)/(nx)\n",
    "x = np.linspace(xmin, xmax, nx)\n",
    "for i in range(0, n_lvl):\n",
    "    \n",
    "    c = np.trapz(dset1[i*nx:i*nx+nx]**2,dx=h)\n",
    "    dset1[i*nx:i*nx+nx]*= 1/np.sqrt(c)\n",
    "    \n",
    "lines1 = []\n",
    "lines2  = []\n",
    "for i in range(6, n_lvl-1):\n",
    "    \n",
    "    \n",
    "    col = cmap(np.float64(n_lvl)/(i**2))\n",
    "    templine, = plt.plot(x, 0.35 * dset1[i*nx:i*nx+nx]**2+dset2[i], c=col,\n",
    "             label=\"$|\\psi_{\"+str(n_lvl-i)+\"}|^2$\", linewidth=3)\n",
    "    lines1.append(templine)\n",
    "    templine2, = plt.plot(x, dset2[i]*np.ones(x.size), \"--\",c=col, linewidth=3,\n",
    "             label=\"$E_\"+str(n_lvl-i)+\"$\")\n",
    "    lines2.append(templine2)\n",
    "    \n",
    "plt.xlabel(\"$x \\ (a.u.)$\", size = 30)\n",
    "plt.ylabel(\"$V(x) \\ (a.u.)$\", size = 30)\n",
    "plt.xlim(-30,30)\n",
    "plt.ylim(-0.25,0.0)\n",
    "templine2, = plt.plot(x, pot(x),\"-.\", label=r\"$V(x) =  - \\frac{1}{\\sqrt{(x^2+1)}$\", \n",
    "        linewidth=3, c=\"black\")\n",
    "lines2.append(templine2)\n",
    "leg1  = plt.legend(handles=lines1,loc='best', frameon=False, fontsize=23,ncol=1)\n",
    "leg2 = plt.legend(handles=lines2,loc='best', frameon=False, fontsize=23,ncol=1)\n",
    "ax = plt.gca().add_artist(leg1)\n",
    "plt.show()\n",
    "file.close()"
   ]
  },
  {
   "cell_type": "code",
   "execution_count": 2,
   "metadata": {
    "collapsed": true
   },
   "outputs": [],
   "source": []
  },
  {
   "cell_type": "code",
   "execution_count": null,
   "metadata": {
    "collapsed": true
   },
   "outputs": [],
   "source": []
  }
 ],
 "metadata": {
  "kernelspec": {
   "display_name": "Python 3",
   "language": "python",
   "name": "python3"
  },
  "language_info": {
   "codemirror_mode": {
    "name": "ipython",
    "version": 3
   },
   "file_extension": ".py",
   "mimetype": "text/x-python",
   "name": "python",
   "nbconvert_exporter": "python",
   "pygments_lexer": "ipython3",
   "version": "3.5.1"
  }
 },
 "nbformat": 4,
 "nbformat_minor": 0
}
