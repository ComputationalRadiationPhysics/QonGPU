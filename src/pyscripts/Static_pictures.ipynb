{
 "cells": [
  {
   "cell_type": "code",
   "execution_count": 4,
   "metadata": {
    "collapsed": false
   },
   "outputs": [
    {
     "ename": "KeyError",
     "evalue": "\"Unable to open object (Object 'numres' doesn't exist)\"",
     "output_type": "error",
     "traceback": [
      "\u001b[1;31m---------------------------------------------------------------------------\u001b[0m",
      "\u001b[1;31mKeyError\u001b[0m                                  Traceback (most recent call last)",
      "\u001b[1;32m<ipython-input-4-940aba843483>\u001b[0m in \u001b[0;36m<module>\u001b[1;34m()\u001b[0m\n\u001b[0;32m     15\u001b[0m \u001b[1;33m\u001b[0m\u001b[0m\n\u001b[0;32m     16\u001b[0m \u001b[1;32mtry\u001b[0m\u001b[1;33m:\u001b[0m\u001b[1;33m\u001b[0m\u001b[0m\n\u001b[1;32m---> 17\u001b[1;33m     \u001b[0mdset1\u001b[0m \u001b[1;33m=\u001b[0m \u001b[0mnp\u001b[0m\u001b[1;33m.\u001b[0m\u001b[0marray\u001b[0m\u001b[1;33m(\u001b[0m\u001b[0mfile\u001b[0m\u001b[1;33m[\u001b[0m\u001b[1;34m\"/numres\"\u001b[0m\u001b[1;33m]\u001b[0m\u001b[1;33m)\u001b[0m\u001b[1;33m\u001b[0m\u001b[0m\n\u001b[0m\u001b[0;32m     18\u001b[0m     \u001b[0mdset2\u001b[0m \u001b[1;33m=\u001b[0m \u001b[0mnp\u001b[0m\u001b[1;33m.\u001b[0m\u001b[0marray\u001b[0m\u001b[1;33m(\u001b[0m\u001b[0mfile\u001b[0m\u001b[1;33m[\u001b[0m\u001b[1;34m\"/evals\"\u001b[0m\u001b[1;33m]\u001b[0m\u001b[1;33m)\u001b[0m\u001b[1;33m\u001b[0m\u001b[0m\n\u001b[0;32m     19\u001b[0m     \u001b[0mdset3\u001b[0m \u001b[1;33m=\u001b[0m \u001b[0mnp\u001b[0m\u001b[1;33m.\u001b[0m\u001b[0marray\u001b[0m\u001b[1;33m(\u001b[0m\u001b[0mfile\u001b[0m\u001b[1;33m[\u001b[0m\u001b[1;34m\"/params\"\u001b[0m\u001b[1;33m]\u001b[0m\u001b[1;33m)\u001b[0m\u001b[1;33m\u001b[0m\u001b[0m\n",
      "\u001b[1;32m/opt/pkg/devel/python/3.4.3/lib/python3.4/site-packages/h5py-2.3.1-py3.4-linux-x86_64.egg/h5py/_hl/group.py\u001b[0m in \u001b[0;36m__getitem__\u001b[1;34m(self, name)\u001b[0m\n\u001b[0;32m    151\u001b[0m                 \u001b[1;32mraise\u001b[0m \u001b[0mValueError\u001b[0m\u001b[1;33m(\u001b[0m\u001b[1;34m\"Invalid HDF5 object reference\"\u001b[0m\u001b[1;33m)\u001b[0m\u001b[1;33m\u001b[0m\u001b[0m\n\u001b[0;32m    152\u001b[0m         \u001b[1;32melse\u001b[0m\u001b[1;33m:\u001b[0m\u001b[1;33m\u001b[0m\u001b[0m\n\u001b[1;32m--> 153\u001b[1;33m             \u001b[0moid\u001b[0m \u001b[1;33m=\u001b[0m \u001b[0mh5o\u001b[0m\u001b[1;33m.\u001b[0m\u001b[0mopen\u001b[0m\u001b[1;33m(\u001b[0m\u001b[0mself\u001b[0m\u001b[1;33m.\u001b[0m\u001b[0mid\u001b[0m\u001b[1;33m,\u001b[0m \u001b[0mself\u001b[0m\u001b[1;33m.\u001b[0m\u001b[0m_e\u001b[0m\u001b[1;33m(\u001b[0m\u001b[0mname\u001b[0m\u001b[1;33m)\u001b[0m\u001b[1;33m,\u001b[0m \u001b[0mlapl\u001b[0m\u001b[1;33m=\u001b[0m\u001b[0mself\u001b[0m\u001b[1;33m.\u001b[0m\u001b[0m_lapl\u001b[0m\u001b[1;33m)\u001b[0m\u001b[1;33m\u001b[0m\u001b[0m\n\u001b[0m\u001b[0;32m    154\u001b[0m \u001b[1;33m\u001b[0m\u001b[0m\n\u001b[0;32m    155\u001b[0m         \u001b[0motype\u001b[0m \u001b[1;33m=\u001b[0m \u001b[0mh5i\u001b[0m\u001b[1;33m.\u001b[0m\u001b[0mget_type\u001b[0m\u001b[1;33m(\u001b[0m\u001b[0moid\u001b[0m\u001b[1;33m)\u001b[0m\u001b[1;33m\u001b[0m\u001b[0m\n",
      "\u001b[1;32mh5py/h5o.pyx\u001b[0m in \u001b[0;36mh5py.h5o.open (h5py/h5o.c:3442)\u001b[1;34m()\u001b[0m\n",
      "\u001b[1;31mKeyError\u001b[0m: \"Unable to open object (Object 'numres' doesn't exist)\""
     ]
    }
   ],
   "source": [
    "import numpy as np\n",
    "import matplotlib.pyplot as plt\n",
    "\n",
    "\n",
    "\n",
    "from matplotlib import rc\n",
    "rc('font',**{'family':'sans-serif','sans-serif':['Helvetica']})\n",
    "## for Palatino and other serif fonts use:\n",
    "#rc('font',**{'family':'serif','serif':['Palatino']})\n",
    "rc('text', usetex=True)\n",
    "\n",
    "import h5py\n",
    "\n",
    "file = h5py.File(\"sim1.h5\")\n",
    "\n",
    "try:\n",
    "    dset1 = np.array(file[\"/numres\"])\n",
    "    dset2 = np.array(file[\"/evals\"])\n",
    "    dset3 = np.array(file[\"/params\"])\n",
    "    \n",
    "except ValueError as err:\n",
    "    file.close()\n",
    "    \n",
    "print(dset1.shape)\n",
    "print(dset2.shape)\n",
    "print(dset3.shape)\n",
    "print(dset3)\n",
    "\n",
    "\n",
    "plt.rc('font', family='serif')\n",
    "plt.rc('xtick', labelsize='xx-large')\n",
    "plt.rc('ytick', labelsize='xx-large')\n",
    "\n",
    "\n",
    "pot = lambda x: -1/np.sqrt(x**2+1)\n",
    "\n",
    "nx = int(dset3[0])\n",
    "ne = int(dset3[1])\n",
    "xmax = dset3[-1]\n",
    "\n",
    "cmap = plt.get_cmap('rainbow')\n",
    "# Using a symmetric potentential\n",
    "xmin = -dset3[-1]\n",
    "\n",
    "n_lvl = np.int32(np.ceil(dset1.size/nx))\n",
    "\n",
    "h = (xmax - xmin)/(nx)\n",
    "x = np.linspace(xmin, xmax, nx)\n",
    "for i in range(0, n_lvl):\n",
    "    \n",
    "    c = np.trapz(dset1[i*nx:i*nx+nx]**2,dx=h)\n",
    "    dset1[i*nx:i*nx+nx]*= 1/np.sqrt(c)\n",
    "    \n",
    "lines1 = []\n",
    "lines2  = []\n",
    "for i in range(6, n_lvl-1):\n",
    "    \n",
    "    \n",
    "    col = cmap(np.float64(n_lvl)/(i**2))\n",
    "    templine, = plt.plot(x, 0.35 * dset1[i*nx:i*nx+nx]**2+dset2[i], c=col,\n",
    "             label=\"$|\\psi_{\"+str(n_lvl-i)+\"}|^2$\", linewidth=3)\n",
    "    lines1.append(templine)\n",
    "    templine2, = plt.plot(x, dset2[i]*np.ones(x.size), \"--\",c=col, linewidth=3,\n",
    "             label=\"$E_\"+str(n_lvl-i)+\"$\")\n",
    "    lines2.append(templine2)\n",
    "    \n",
    "plt.xlabel(\"$x \\ (a.u.)$\", size = 30)\n",
    "plt.ylabel(\"$V(x) \\ (a.u.)$\", size = 30)\n",
    "plt.xlim(-30,30)\n",
    "plt.ylim(-0.25,0.0)\n",
    "templine2, = plt.plot(x, pot(x),\"-.\", label=r\"$V(x) =  - \\frac{1}{\\sqrt{(x^2+1)}$\", \n",
    "        linewidth=3, c=\"black\")\n",
    "lines2.append(templine2)\n",
    "leg1  = plt.legend(handles=lines1,loc='best', frameon=False, fontsize=23,ncol=1)\n",
    "leg2 = plt.legend(handles=lines2,loc='best', frameon=False, fontsize=23,ncol=1)\n",
    "ax = plt.gca().add_artist(leg1)\n",
    "plt.show()\n",
    "file.close()"
   ]
  },
  {
   "cell_type": "code",
   "execution_count": null,
   "metadata": {
    "collapsed": true
   },
   "outputs": [],
   "source": []
  },
  {
   "cell_type": "code",
   "execution_count": 3,
   "metadata": {
    "collapsed": false
   },
   "outputs": [
    {
     "name": "stderr",
     "output_type": "stream",
     "text": [
      "/home/boehme03/.local/lib/python3.4/site-packages/matplotlib/image.py:375: UserWarning: Images are not supported on non-linear axes.\n",
      "  warnings.warn(\"Images are not supported on non-linear axes.\")\n"
     ]
    },
    {
     "data": {
      "image/png": "[encoded data removed]",
      "text/plain": [
       "<matplotlib.figure.Figure at 0x7f66822f8c18>"
      ]
     },
     "metadata": {},
     "output_type": "display_data"
    }
   ],
   "source": [
    "import numpy as np\n",
    "import matplotlib.pyplot as plt\n",
    "%matplotlib inline\n",
    "tmp = np.random.random((5,5))\n",
    "plt.yscale(\"log\")\n",
    "plt.imshow(tmp, aspect=\"auto\", extent=(0,5, 1e0, 1e5),interpolation='nearest')\n",
    "plt.show()\n"
   ]
  },
  {
   "cell_type": "code",
   "execution_count": null,
   "metadata": {
    "collapsed": true
   },
   "outputs": [],
   "source": []
  }
 ],
 "metadata": {
  "kernelspec": {
   "display_name": "Python 3",
   "language": "python",
   "name": "python3"
  },
  "language_info": {
   "codemirror_mode": {
    "name": "ipython",
    "version": 3
   },
   "file_extension": ".py",
   "mimetype": "text/x-python",
   "name": "python",
   "nbconvert_exporter": "python",
   "pygments_lexer": "ipython3",
   "version": "3.4.3"
  }
 },
 "nbformat": 4,
 "nbformat_minor": 0
}
