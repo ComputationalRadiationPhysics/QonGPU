{
 "cells": [
  {
   "cell_type": "code",
   "execution_count": null,
   "metadata": {
    "collapsed": false
   },
   "outputs": [],
   "source": [
    "import numpy as np\n",
    "import matplotlib.pyplot as plt\n",
    "import h5py\n",
    "xmin = -30 \n",
    "xmax = 30 \n",
    "tmin = 0 \n",
    "tmax = 100\n",
    "nx = 10000\n",
    "nt = nx\n",
    "weight = 0.1\n",
    "\n",
    "plt.figure(figsize=(14,10))\n",
    "x = np.linspace(xmin, xmax, nx)\n",
    "t = np.linspace(tmin, tmax, nt)\n",
    "v = lambda x,t: -1/np.sqrt(x**2+1) - weight* x * np.sin(t)\n",
    "\n",
    "plt.xlabel(r\"$x(a.u.)$\", size=20)\n",
    "plt.ylabel(r\"$V(x)-l(x,t)$\", size=20)\n",
    "\n",
    "p = plt.plot(x, v(x,0))\n",
    "for i in t:\n",
    "    ydata = v(x, i)\n",
    "    plt.setp(p[0], ydata=ydata)\n",
    "    plt.title(\"Time t = \" +str(i)+\"$(a.u.)$\")\n",
    "    plt.pause(0.03)\n",
    "    plt.draw()\n",
    "\n",
    "\n",
    "plt.show()\n",
    "\n",
    "\n",
    "\n",
    "\n"
   ]
  },
  {
   "cell_type": "code",
   "execution_count": null,
   "metadata": {
    "collapsed": true
   },
   "outputs": [],
   "source": []
  },
  {
   "cell_type": "code",
   "execution_count": null,
   "metadata": {
    "collapsed": true
   },
   "outputs": [],
   "source": []
  }
 ],
 "metadata": {
  "kernelspec": {
   "display_name": "Python 2",
   "language": "python",
   "name": "python2"
  },
  "language_info": {
   "codemirror_mode": {
    "name": "ipython",
    "version": 2
   },
   "file_extension": ".py",
   "mimetype": "text/x-python",
   "name": "python",
   "nbconvert_exporter": "python",
   "pygments_lexer": "ipython2",
   "version": "2.7.13"
  }
 },
 "nbformat": 4,
 "nbformat_minor": 0
}
